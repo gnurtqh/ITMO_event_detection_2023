{
 "cells": [
  {
   "cell_type": "markdown",
   "id": "6bf5e656",
   "metadata": {
    "papermill": {
     "duration": 0.010743,
     "end_time": "2023-06-10T00:09:27.594715",
     "exception": false,
     "start_time": "2023-06-10T00:09:27.583972",
     "status": "completed"
    },
    "tags": []
   },
   "source": [
    "# Импорт библиотек"
   ]
  },
  {
   "cell_type": "code",
   "execution_count": 1,
   "id": "c367b98d",
   "metadata": {
    "_cell_guid": "2244c04c-2f50-4da7-a85d-83965bcb68b8",
    "_uuid": "0cbb2e41-e7d1-4a80-8437-0d0ff2ace412",
    "collapsed": false,
    "execution": {
     "iopub.execute_input": "2023-06-10T00:09:27.617597Z",
     "iopub.status.busy": "2023-06-10T00:09:27.617036Z",
     "iopub.status.idle": "2023-06-10T00:09:41.982892Z",
     "shell.execute_reply": "2023-06-10T00:09:41.981929Z"
    },
    "jupyter": {
     "outputs_hidden": false
    },
    "papermill": {
     "duration": 14.38004,
     "end_time": "2023-06-10T00:09:41.985385",
     "exception": false,
     "start_time": "2023-06-10T00:09:27.605345",
     "status": "completed"
    },
    "tags": []
   },
   "outputs": [
    {
     "name": "stderr",
     "output_type": "stream",
     "text": [
      "/opt/conda/lib/python3.10/site-packages/tensorflow_io/python/ops/__init__.py:98: UserWarning: unable to load libtensorflow_io_plugins.so: unable to open file: libtensorflow_io_plugins.so, from paths: ['/opt/conda/lib/python3.10/site-packages/tensorflow_io/python/ops/libtensorflow_io_plugins.so']\n",
      "caused by: ['/opt/conda/lib/python3.10/site-packages/tensorflow_io/python/ops/libtensorflow_io_plugins.so: undefined symbol: _ZN3tsl6StatusC1EN10tensorflow5error4CodeESt17basic_string_viewIcSt11char_traitsIcEENS_14SourceLocationE']\n",
      "  warnings.warn(f\"unable to load libtensorflow_io_plugins.so: {e}\")\n",
      "/opt/conda/lib/python3.10/site-packages/tensorflow_io/python/ops/__init__.py:104: UserWarning: file system plugins are not loaded: unable to open file: libtensorflow_io.so, from paths: ['/opt/conda/lib/python3.10/site-packages/tensorflow_io/python/ops/libtensorflow_io.so']\n",
      "caused by: ['/opt/conda/lib/python3.10/site-packages/tensorflow_io/python/ops/libtensorflow_io.so: undefined symbol: _ZTVN10tensorflow13GcsFileSystemE']\n",
      "  warnings.warn(f\"file system plugins are not loaded: {e}\")\n"
     ]
    }
   ],
   "source": [
    "import os.path as path\n",
    "import pandas as pd\n",
    "import numpy as np\n",
    "from tqdm import tqdm\n",
    "import librosa\n",
    "import torch\n",
    "import os\n",
    "import torch.nn as nn\n",
    "import matplotlib.pyplot as plt\n",
    "import random\n",
    "import torch.nn.functional as F\n",
    "import torch.optim as optim\n",
    "from torch.utils.data import Dataset\n",
    "from torch.utils.data import DataLoader\n",
    "import torchaudio\n",
    "import time\n",
    "from sklearn.metrics import accuracy_score\n",
    "from torch.utils.data import random_split\n",
    "from transformers import AutoProcessor, ASTModel, ASTFeatureExtractor, AutoFeatureExtractor\n",
    "from datasets import load_dataset"
   ]
  },
  {
   "cell_type": "markdown",
   "id": "da57a40a",
   "metadata": {
    "papermill": {
     "duration": 0.01004,
     "end_time": "2023-06-10T00:09:42.006292",
     "exception": false,
     "start_time": "2023-06-10T00:09:41.996252",
     "status": "completed"
    },
    "tags": []
   },
   "source": [
    "# Пути к файлам и папкам"
   ]
  },
  {
   "cell_type": "code",
   "execution_count": 2,
   "id": "d464d740",
   "metadata": {
    "execution": {
     "iopub.execute_input": "2023-06-10T00:09:42.029138Z",
     "iopub.status.busy": "2023-06-10T00:09:42.027632Z",
     "iopub.status.idle": "2023-06-10T00:09:42.032758Z",
     "shell.execute_reply": "2023-06-10T00:09:42.031865Z"
    },
    "papermill": {
     "duration": 0.018337,
     "end_time": "2023-06-10T00:09:42.034687",
     "exception": false,
     "start_time": "2023-06-10T00:09:42.016350",
     "status": "completed"
    },
    "tags": []
   },
   "outputs": [],
   "source": [
    "home_path = \"/kaggle/input/itmo-acoustic-event-detection-2023\""
   ]
  },
  {
   "cell_type": "code",
   "execution_count": 3,
   "id": "4ab03e18",
   "metadata": {
    "execution": {
     "iopub.execute_input": "2023-06-10T00:09:42.056115Z",
     "iopub.status.busy": "2023-06-10T00:09:42.055267Z",
     "iopub.status.idle": "2023-06-10T00:09:42.060518Z",
     "shell.execute_reply": "2023-06-10T00:09:42.059717Z"
    },
    "papermill": {
     "duration": 0.017938,
     "end_time": "2023-06-10T00:09:42.062441",
     "exception": false,
     "start_time": "2023-06-10T00:09:42.044503",
     "status": "completed"
    },
    "tags": []
   },
   "outputs": [],
   "source": [
    "audio_train_path = path.join(home_path, \"audio_train/train\")\n",
    "audio_test_path = path.join(home_path, \"audio_test/test\")\n",
    "train_csv_path = path.join(home_path, \"train.csv\")\n",
    "sample_submission_path = path.join(home_path, \"sample_submission.csv\")"
   ]
  },
  {
   "cell_type": "code",
   "execution_count": 4,
   "id": "b3e01906",
   "metadata": {
    "execution": {
     "iopub.execute_input": "2023-06-10T00:09:42.084143Z",
     "iopub.status.busy": "2023-06-10T00:09:42.083340Z",
     "iopub.status.idle": "2023-06-10T00:09:42.288772Z",
     "shell.execute_reply": "2023-06-10T00:09:42.287841Z"
    },
    "papermill": {
     "duration": 0.218302,
     "end_time": "2023-06-10T00:09:42.290961",
     "exception": false,
     "start_time": "2023-06-10T00:09:42.072659",
     "status": "completed"
    },
    "tags": []
   },
   "outputs": [
    {
     "data": {
      "text/plain": [
       "'c5042ee2489b3e469e07.wav'"
      ]
     },
     "execution_count": 4,
     "metadata": {},
     "output_type": "execute_result"
    }
   ],
   "source": [
    "files = os.listdir(audio_train_path)\n",
    "filename = random.choice(files)\n",
    "filename"
   ]
  },
  {
   "cell_type": "markdown",
   "id": "50da0989",
   "metadata": {
    "papermill": {
     "duration": 0.010163,
     "end_time": "2023-06-10T00:09:42.311606",
     "exception": false,
     "start_time": "2023-06-10T00:09:42.301443",
     "status": "completed"
    },
    "tags": []
   },
   "source": [
    "# Подготовка данных"
   ]
  },
  {
   "cell_type": "code",
   "execution_count": 5,
   "id": "6482f867",
   "metadata": {
    "execution": {
     "iopub.execute_input": "2023-06-10T00:09:42.334594Z",
     "iopub.status.busy": "2023-06-10T00:09:42.333545Z",
     "iopub.status.idle": "2023-06-10T00:09:42.376087Z",
     "shell.execute_reply": "2023-06-10T00:09:42.375216Z"
    },
    "papermill": {
     "duration": 0.056216,
     "end_time": "2023-06-10T00:09:42.378217",
     "exception": false,
     "start_time": "2023-06-10T00:09:42.322001",
     "status": "completed"
    },
    "tags": []
   },
   "outputs": [
    {
     "data": {
      "text/html": [
       "<div>\n",
       "<style scoped>\n",
       "    .dataframe tbody tr th:only-of-type {\n",
       "        vertical-align: middle;\n",
       "    }\n",
       "\n",
       "    .dataframe tbody tr th {\n",
       "        vertical-align: top;\n",
       "    }\n",
       "\n",
       "    .dataframe thead th {\n",
       "        text-align: right;\n",
       "    }\n",
       "</style>\n",
       "<table border=\"1\" class=\"dataframe\">\n",
       "  <thead>\n",
       "    <tr style=\"text-align: right;\">\n",
       "      <th></th>\n",
       "      <th>fname</th>\n",
       "      <th>label</th>\n",
       "    </tr>\n",
       "  </thead>\n",
       "  <tbody>\n",
       "    <tr>\n",
       "      <th>0</th>\n",
       "      <td>8bcbcc394ba64fe85ed4.wav</td>\n",
       "      <td>Finger_snapping</td>\n",
       "    </tr>\n",
       "    <tr>\n",
       "      <th>1</th>\n",
       "      <td>00d77b917e241afa06f1.wav</td>\n",
       "      <td>Squeak</td>\n",
       "    </tr>\n",
       "    <tr>\n",
       "      <th>2</th>\n",
       "      <td>17bb93b73b8e79234cb3.wav</td>\n",
       "      <td>Electric_piano</td>\n",
       "    </tr>\n",
       "    <tr>\n",
       "      <th>3</th>\n",
       "      <td>7d5c7a40a936136da55e.wav</td>\n",
       "      <td>Harmonica</td>\n",
       "    </tr>\n",
       "    <tr>\n",
       "      <th>4</th>\n",
       "      <td>17e0ee7565a33d6c2326.wav</td>\n",
       "      <td>Snare_drum</td>\n",
       "    </tr>\n",
       "    <tr>\n",
       "      <th>...</th>\n",
       "      <td>...</td>\n",
       "      <td>...</td>\n",
       "    </tr>\n",
       "    <tr>\n",
       "      <th>5678</th>\n",
       "      <td>edd5f2d5bdab597ab6f1.wav</td>\n",
       "      <td>Cello</td>\n",
       "    </tr>\n",
       "    <tr>\n",
       "      <th>5679</th>\n",
       "      <td>cc489c6414c2c25bfa6d.wav</td>\n",
       "      <td>Shatter</td>\n",
       "    </tr>\n",
       "    <tr>\n",
       "      <th>5680</th>\n",
       "      <td>ac3177fbe1f9b0155920.wav</td>\n",
       "      <td>Cello</td>\n",
       "    </tr>\n",
       "    <tr>\n",
       "      <th>5681</th>\n",
       "      <td>9da56639ef3113293961.wav</td>\n",
       "      <td>Snare_drum</td>\n",
       "    </tr>\n",
       "    <tr>\n",
       "      <th>5682</th>\n",
       "      <td>caa047e91afbea748125.wav</td>\n",
       "      <td>Fart</td>\n",
       "    </tr>\n",
       "  </tbody>\n",
       "</table>\n",
       "<p>5683 rows × 2 columns</p>\n",
       "</div>"
      ],
      "text/plain": [
       "                         fname            label\n",
       "0     8bcbcc394ba64fe85ed4.wav  Finger_snapping\n",
       "1     00d77b917e241afa06f1.wav           Squeak\n",
       "2     17bb93b73b8e79234cb3.wav   Electric_piano\n",
       "3     7d5c7a40a936136da55e.wav        Harmonica\n",
       "4     17e0ee7565a33d6c2326.wav       Snare_drum\n",
       "...                        ...              ...\n",
       "5678  edd5f2d5bdab597ab6f1.wav            Cello\n",
       "5679  cc489c6414c2c25bfa6d.wav          Shatter\n",
       "5680  ac3177fbe1f9b0155920.wav            Cello\n",
       "5681  9da56639ef3113293961.wav       Snare_drum\n",
       "5682  caa047e91afbea748125.wav             Fart\n",
       "\n",
       "[5683 rows x 2 columns]"
      ]
     },
     "execution_count": 5,
     "metadata": {},
     "output_type": "execute_result"
    }
   ],
   "source": [
    "label_df = pd.read_csv(train_csv_path)\n",
    "sample_df = pd.read_csv(sample_submission_path)\n",
    "label_df"
   ]
  },
  {
   "cell_type": "code",
   "execution_count": 6,
   "id": "bb6f84ca",
   "metadata": {
    "execution": {
     "iopub.execute_input": "2023-06-10T00:09:42.402330Z",
     "iopub.status.busy": "2023-06-10T00:09:42.401489Z",
     "iopub.status.idle": "2023-06-10T00:09:42.415120Z",
     "shell.execute_reply": "2023-06-10T00:09:42.414192Z"
    },
    "papermill": {
     "duration": 0.026911,
     "end_time": "2023-06-10T00:09:42.417132",
     "exception": false,
     "start_time": "2023-06-10T00:09:42.390221",
     "status": "completed"
    },
    "tags": []
   },
   "outputs": [
    {
     "data": {
      "text/plain": [
       "{'Acoustic_guitar': 0,\n",
       " 'Applause': 1,\n",
       " 'Bark': 2,\n",
       " 'Bass_drum': 3,\n",
       " 'Burping_or_eructation': 4,\n",
       " 'Bus': 5,\n",
       " 'Cello': 6,\n",
       " 'Chime': 7,\n",
       " 'Clarinet': 8,\n",
       " 'Computer_keyboard': 9,\n",
       " 'Cough': 10,\n",
       " 'Cowbell': 11,\n",
       " 'Double_bass': 12,\n",
       " 'Drawer_open_or_close': 13,\n",
       " 'Electric_piano': 14,\n",
       " 'Fart': 15,\n",
       " 'Finger_snapping': 16,\n",
       " 'Fireworks': 17,\n",
       " 'Flute': 18,\n",
       " 'Glockenspiel': 19,\n",
       " 'Gong': 20,\n",
       " 'Gunshot_or_gunfire': 21,\n",
       " 'Harmonica': 22,\n",
       " 'Hi-hat': 23,\n",
       " 'Keys_jangling': 24,\n",
       " 'Knock': 25,\n",
       " 'Laughter': 26,\n",
       " 'Meow': 27,\n",
       " 'Microwave_oven': 28,\n",
       " 'Oboe': 29,\n",
       " 'Saxophone': 30,\n",
       " 'Scissors': 31,\n",
       " 'Shatter': 32,\n",
       " 'Snare_drum': 33,\n",
       " 'Squeak': 34,\n",
       " 'Tambourine': 35,\n",
       " 'Tearing': 36,\n",
       " 'Telephone': 37,\n",
       " 'Trumpet': 38,\n",
       " 'Violin_or_fiddle': 39,\n",
       " 'Writing': 40}"
      ]
     },
     "execution_count": 6,
     "metadata": {},
     "output_type": "execute_result"
    }
   ],
   "source": [
    "unique_labels = np.unique(label_df['label'])\n",
    "label_value_dict = {label: index for index, label in enumerate(unique_labels)}\n",
    "label_value_dict"
   ]
  },
  {
   "cell_type": "markdown",
   "id": "0ae6303d",
   "metadata": {
    "papermill": {
     "duration": 0.010068,
     "end_time": "2023-06-10T00:09:42.437791",
     "exception": false,
     "start_time": "2023-06-10T00:09:42.427723",
     "status": "completed"
    },
    "tags": []
   },
   "source": [
    "# Подготовка и тестирование оборудования"
   ]
  },
  {
   "cell_type": "code",
   "execution_count": 7,
   "id": "9c0f087f",
   "metadata": {
    "execution": {
     "iopub.execute_input": "2023-06-10T00:09:42.460455Z",
     "iopub.status.busy": "2023-06-10T00:09:42.459786Z",
     "iopub.status.idle": "2023-06-10T00:09:42.546446Z",
     "shell.execute_reply": "2023-06-10T00:09:42.545397Z"
    },
    "papermill": {
     "duration": 0.100806,
     "end_time": "2023-06-10T00:09:42.549296",
     "exception": false,
     "start_time": "2023-06-10T00:09:42.448490",
     "status": "completed"
    },
    "tags": []
   },
   "outputs": [
    {
     "data": {
      "text/plain": [
       "'cuda'"
      ]
     },
     "execution_count": 7,
     "metadata": {},
     "output_type": "execute_result"
    }
   ],
   "source": [
    "device = \"cuda\" if torch.cuda.is_available() else \"cpu\"\n",
    "device"
   ]
  },
  {
   "cell_type": "code",
   "execution_count": 8,
   "id": "8c87b253",
   "metadata": {
    "execution": {
     "iopub.execute_input": "2023-06-10T00:09:42.589108Z",
     "iopub.status.busy": "2023-06-10T00:09:42.588621Z",
     "iopub.status.idle": "2023-06-10T00:09:42.598830Z",
     "shell.execute_reply": "2023-06-10T00:09:42.597970Z"
    },
    "papermill": {
     "duration": 0.040553,
     "end_time": "2023-06-10T00:09:42.606468",
     "exception": false,
     "start_time": "2023-06-10T00:09:42.565915",
     "status": "completed"
    },
    "tags": []
   },
   "outputs": [
    {
     "data": {
      "text/plain": [
       "(0, 2)"
      ]
     },
     "execution_count": 8,
     "metadata": {},
     "output_type": "execute_result"
    }
   ],
   "source": [
    "cpu_count = os.cpu_count()\n",
    "num_workers = cpu_count if device == \"cpu\" else 0\n",
    "num_workers, cpu_count"
   ]
  },
  {
   "cell_type": "code",
   "execution_count": 9,
   "id": "50e71596",
   "metadata": {
    "execution": {
     "iopub.execute_input": "2023-06-10T00:09:42.648041Z",
     "iopub.status.busy": "2023-06-10T00:09:42.647712Z",
     "iopub.status.idle": "2023-06-10T00:09:42.656022Z",
     "shell.execute_reply": "2023-06-10T00:09:42.655218Z"
    },
    "papermill": {
     "duration": 0.031473,
     "end_time": "2023-06-10T00:09:42.658488",
     "exception": false,
     "start_time": "2023-06-10T00:09:42.627015",
     "status": "completed"
    },
    "tags": []
   },
   "outputs": [],
   "source": [
    "def set_random_state(random_state):\n",
    "    \"\"\"Initialize random generators.\n",
    "\n",
    "    Parameters\n",
    "    ==========\n",
    "    random_state : int = 0\n",
    "        Determines random number generation for centroid initialization.\n",
    "        Use an int to make the randomness deterministic.\n",
    "    \"\"\"\n",
    "    torch.manual_seed(random_state)\n",
    "    random.seed(random_state)\n",
    "    np.random.seed(random_state)\n",
    "\n",
    "    if torch.cuda.is_available():\n",
    "        torch.cuda.manual_seed_all(random_state)\n",
    "        torch.cuda.manual_seed(random_state)\n",
    "\n",
    "        torch.backends.cudnn.deterministic = True\n",
    "        torch.backends.cudnn.benchmark = False"
   ]
  },
  {
   "cell_type": "code",
   "execution_count": 10,
   "id": "d5e8c17d",
   "metadata": {
    "execution": {
     "iopub.execute_input": "2023-06-10T00:09:42.688355Z",
     "iopub.status.busy": "2023-06-10T00:09:42.688001Z",
     "iopub.status.idle": "2023-06-10T00:09:42.691909Z",
     "shell.execute_reply": "2023-06-10T00:09:42.691055Z"
    },
    "papermill": {
     "duration": 0.02276,
     "end_time": "2023-06-10T00:09:42.695626",
     "exception": false,
     "start_time": "2023-06-10T00:09:42.672866",
     "status": "completed"
    },
    "tags": []
   },
   "outputs": [],
   "source": [
    "RANDOM_STATE = 42"
   ]
  },
  {
   "cell_type": "code",
   "execution_count": 11,
   "id": "d0cadf4d",
   "metadata": {
    "execution": {
     "iopub.execute_input": "2023-06-10T00:09:42.726202Z",
     "iopub.status.busy": "2023-06-10T00:09:42.725880Z",
     "iopub.status.idle": "2023-06-10T00:09:42.729896Z",
     "shell.execute_reply": "2023-06-10T00:09:42.729090Z"
    },
    "papermill": {
     "duration": 0.023167,
     "end_time": "2023-06-10T00:09:42.733642",
     "exception": false,
     "start_time": "2023-06-10T00:09:42.710475",
     "status": "completed"
    },
    "tags": []
   },
   "outputs": [],
   "source": [
    "torch.use_deterministic_algorithms(True)"
   ]
  },
  {
   "cell_type": "code",
   "execution_count": 12,
   "id": "dcedd998",
   "metadata": {
    "execution": {
     "iopub.execute_input": "2023-06-10T00:09:42.763670Z",
     "iopub.status.busy": "2023-06-10T00:09:42.763357Z",
     "iopub.status.idle": "2023-06-10T00:09:42.769361Z",
     "shell.execute_reply": "2023-06-10T00:09:42.768538Z"
    },
    "papermill": {
     "duration": 0.026179,
     "end_time": "2023-06-10T00:09:42.774495",
     "exception": false,
     "start_time": "2023-06-10T00:09:42.748316",
     "status": "completed"
    },
    "tags": []
   },
   "outputs": [
    {
     "name": "stdout",
     "output_type": "stream",
     "text": [
      "env: CUBLAS_WORKSPACE_CONFIG=:4096:8\n",
      "env: PYTHONHASHSEED=42\n"
     ]
    }
   ],
   "source": [
    "%env CUBLAS_WORKSPACE_CONFIG=:4096:8\n",
    "%env PYTHONHASHSEED=42"
   ]
  },
  {
   "cell_type": "markdown",
   "id": "8b79301d",
   "metadata": {
    "papermill": {
     "duration": 0.013971,
     "end_time": "2023-06-10T00:09:42.802850",
     "exception": false,
     "start_time": "2023-06-10T00:09:42.788879",
     "status": "completed"
    },
    "tags": []
   },
   "source": [
    "# Датасет"
   ]
  },
  {
   "cell_type": "code",
   "execution_count": 13,
   "id": "a6e58c43",
   "metadata": {
    "execution": {
     "iopub.execute_input": "2023-06-10T00:09:42.832811Z",
     "iopub.status.busy": "2023-06-10T00:09:42.832472Z",
     "iopub.status.idle": "2023-06-10T00:09:43.130806Z",
     "shell.execute_reply": "2023-06-10T00:09:43.129979Z"
    },
    "papermill": {
     "duration": 0.316162,
     "end_time": "2023-06-10T00:09:43.133323",
     "exception": false,
     "start_time": "2023-06-10T00:09:42.817161",
     "status": "completed"
    },
    "tags": []
   },
   "outputs": [
    {
     "data": {
      "application/vnd.jupyter.widget-view+json": {
       "model_id": "73a88afb70c042328f356e34e4c25292",
       "version_major": 2,
       "version_minor": 0
      },
      "text/plain": [
       "Downloading (…)rocessor_config.json:   0%|          | 0.00/297 [00:00<?, ?B/s]"
      ]
     },
     "metadata": {},
     "output_type": "display_data"
    }
   ],
   "source": [
    "feature_extractor = ASTFeatureExtractor.from_pretrained(\"MIT/ast-finetuned-audioset-10-10-0.4593\")"
   ]
  },
  {
   "cell_type": "code",
   "execution_count": 14,
   "id": "5984204a",
   "metadata": {
    "execution": {
     "iopub.execute_input": "2023-06-10T00:09:43.170136Z",
     "iopub.status.busy": "2023-06-10T00:09:43.169814Z",
     "iopub.status.idle": "2023-06-10T00:09:43.175363Z",
     "shell.execute_reply": "2023-06-10T00:09:43.174569Z"
    },
    "papermill": {
     "duration": 0.030152,
     "end_time": "2023-06-10T00:09:43.178959",
     "exception": false,
     "start_time": "2023-06-10T00:09:43.148807",
     "status": "completed"
    },
    "tags": []
   },
   "outputs": [],
   "source": [
    "def extract_feature(audio_path, fname, sr):\n",
    "    x = librosa.load(path.join(audio_path, fname), sr=sr)[0]\n",
    "    x, _ = librosa.effects.trim(x)\n",
    "    x = feature_extractor(x, sampling_rate=sr, return_tensors=\"pt\")[\"input_values\"]\n",
    "    return x"
   ]
  },
  {
   "cell_type": "code",
   "execution_count": 15,
   "id": "20938fee",
   "metadata": {
    "execution": {
     "iopub.execute_input": "2023-06-10T00:09:43.209792Z",
     "iopub.status.busy": "2023-06-10T00:09:43.209493Z",
     "iopub.status.idle": "2023-06-10T00:14:55.244907Z",
     "shell.execute_reply": "2023-06-10T00:14:55.243936Z"
    },
    "papermill": {
     "duration": 312.064146,
     "end_time": "2023-06-10T00:14:55.258018",
     "exception": false,
     "start_time": "2023-06-10T00:09:43.193872",
     "status": "completed"
    },
    "tags": []
   },
   "outputs": [
    {
     "name": "stdout",
     "output_type": "stream",
     "text": [
      "312.029194355011 seconds\n"
     ]
    }
   ],
   "source": [
    "start_time = time.time()\n",
    "\n",
    "X = [extract_feature(audio_train_path, fname, 16000) for fname in label_df[\"fname\"]]\n",
    "\n",
    "X_test = [extract_feature(audio_test_path, fname, 16000) for fname in sample_df[\"fname\"]]\n",
    "\n",
    "print(time.time() - start_time, \"seconds\")"
   ]
  },
  {
   "cell_type": "code",
   "execution_count": 16,
   "id": "1f87172f",
   "metadata": {
    "execution": {
     "iopub.execute_input": "2023-06-10T00:14:55.281867Z",
     "iopub.status.busy": "2023-06-10T00:14:55.281027Z",
     "iopub.status.idle": "2023-06-10T00:14:55.287665Z",
     "shell.execute_reply": "2023-06-10T00:14:55.286684Z"
    },
    "papermill": {
     "duration": 0.020752,
     "end_time": "2023-06-10T00:14:55.289722",
     "exception": false,
     "start_time": "2023-06-10T00:14:55.268970",
     "status": "completed"
    },
    "tags": []
   },
   "outputs": [],
   "source": [
    "class EventDetectionDataset(Dataset):\n",
    "    def __init__(self, X, y=None, device=\"cpu\"):\n",
    "        self.X = X\n",
    "        self.y = y\n",
    "    def __len__(self):\n",
    "        return len(self.X)\n",
    "\n",
    "    def __getitem__(self, idx):\n",
    "        x = self.X[idx]\n",
    "        if self.y is not None:\n",
    "            return \\\n",
    "                x,\\\n",
    "                self.y[idx]\n",
    "        return x"
   ]
  },
  {
   "cell_type": "code",
   "execution_count": 17,
   "id": "a46875bc",
   "metadata": {
    "execution": {
     "iopub.execute_input": "2023-06-10T00:14:55.312418Z",
     "iopub.status.busy": "2023-06-10T00:14:55.312125Z",
     "iopub.status.idle": "2023-06-10T00:14:55.317636Z",
     "shell.execute_reply": "2023-06-10T00:14:55.316641Z"
    },
    "papermill": {
     "duration": 0.019428,
     "end_time": "2023-06-10T00:14:55.319907",
     "exception": false,
     "start_time": "2023-06-10T00:14:55.300479",
     "status": "completed"
    },
    "tags": []
   },
   "outputs": [],
   "source": [
    "y = [label_value_dict[label] for label in label_df[\"label\"]]"
   ]
  },
  {
   "cell_type": "code",
   "execution_count": 18,
   "id": "48bd55ac",
   "metadata": {
    "execution": {
     "iopub.execute_input": "2023-06-10T00:14:55.342440Z",
     "iopub.status.busy": "2023-06-10T00:14:55.342152Z",
     "iopub.status.idle": "2023-06-10T00:14:55.346290Z",
     "shell.execute_reply": "2023-06-10T00:14:55.345303Z"
    },
    "papermill": {
     "duration": 0.01808,
     "end_time": "2023-06-10T00:14:55.348656",
     "exception": false,
     "start_time": "2023-06-10T00:14:55.330576",
     "status": "completed"
    },
    "tags": []
   },
   "outputs": [],
   "source": [
    "dataset = EventDetectionDataset(X, y)"
   ]
  },
  {
   "cell_type": "code",
   "execution_count": 19,
   "id": "aab5e51d",
   "metadata": {
    "execution": {
     "iopub.execute_input": "2023-06-10T00:14:55.371139Z",
     "iopub.status.busy": "2023-06-10T00:14:55.370885Z",
     "iopub.status.idle": "2023-06-10T00:14:55.377806Z",
     "shell.execute_reply": "2023-06-10T00:14:55.376966Z"
    },
    "papermill": {
     "duration": 0.020628,
     "end_time": "2023-06-10T00:14:55.379933",
     "exception": false,
     "start_time": "2023-06-10T00:14:55.359305",
     "status": "completed"
    },
    "tags": []
   },
   "outputs": [],
   "source": [
    "trainset, valset = random_split(dataset, [0.9, 0.1], generator=torch.Generator().manual_seed(42))"
   ]
  },
  {
   "cell_type": "code",
   "execution_count": 20,
   "id": "ac3d8629",
   "metadata": {
    "execution": {
     "iopub.execute_input": "2023-06-10T00:14:55.402905Z",
     "iopub.status.busy": "2023-06-10T00:14:55.402648Z",
     "iopub.status.idle": "2023-06-10T00:14:55.406716Z",
     "shell.execute_reply": "2023-06-10T00:14:55.405726Z"
    },
    "papermill": {
     "duration": 0.018364,
     "end_time": "2023-06-10T00:14:55.408944",
     "exception": false,
     "start_time": "2023-06-10T00:14:55.390580",
     "status": "completed"
    },
    "tags": []
   },
   "outputs": [],
   "source": [
    "testset = EventDetectionDataset(X_test)"
   ]
  },
  {
   "cell_type": "code",
   "execution_count": 21,
   "id": "41fe0970",
   "metadata": {
    "execution": {
     "iopub.execute_input": "2023-06-10T00:14:55.431975Z",
     "iopub.status.busy": "2023-06-10T00:14:55.431727Z",
     "iopub.status.idle": "2023-06-10T00:14:55.437056Z",
     "shell.execute_reply": "2023-06-10T00:14:55.436013Z"
    },
    "papermill": {
     "duration": 0.019727,
     "end_time": "2023-06-10T00:14:55.439545",
     "exception": false,
     "start_time": "2023-06-10T00:14:55.419818",
     "status": "completed"
    },
    "tags": []
   },
   "outputs": [],
   "source": [
    "train_loader = DataLoader(trainset, batch_size=8, shuffle=True, num_workers=num_workers)\n",
    "val_loader = DataLoader(valset, batch_size=8, shuffle=False, num_workers=num_workers)\n",
    "test_loader = DataLoader(testset, batch_size=8, shuffle=False, num_workers=num_workers)"
   ]
  },
  {
   "cell_type": "markdown",
   "id": "cb5acdb9",
   "metadata": {
    "papermill": {
     "duration": 0.01076,
     "end_time": "2023-06-10T00:14:55.461225",
     "exception": false,
     "start_time": "2023-06-10T00:14:55.450465",
     "status": "completed"
    },
    "tags": []
   },
   "source": [
    "# Архитектура нейронной сети"
   ]
  },
  {
   "cell_type": "code",
   "execution_count": 22,
   "id": "9fa7b7b4",
   "metadata": {
    "execution": {
     "iopub.execute_input": "2023-06-10T00:14:55.484216Z",
     "iopub.status.busy": "2023-06-10T00:14:55.483486Z",
     "iopub.status.idle": "2023-06-10T00:14:59.044131Z",
     "shell.execute_reply": "2023-06-10T00:14:59.043187Z"
    },
    "papermill": {
     "duration": 3.574413,
     "end_time": "2023-06-10T00:14:59.046360",
     "exception": false,
     "start_time": "2023-06-10T00:14:55.471947",
     "status": "completed"
    },
    "tags": []
   },
   "outputs": [
    {
     "data": {
      "application/vnd.jupyter.widget-view+json": {
       "model_id": "a44a7b41215849938ec705a4aa98cece",
       "version_major": 2,
       "version_minor": 0
      },
      "text/plain": [
       "Downloading (…)lve/main/config.json:   0%|          | 0.00/26.8k [00:00<?, ?B/s]"
      ]
     },
     "metadata": {},
     "output_type": "display_data"
    },
    {
     "data": {
      "application/vnd.jupyter.widget-view+json": {
       "model_id": "e669fad113ac43ce9fe9efc54f657a79",
       "version_major": 2,
       "version_minor": 0
      },
      "text/plain": [
       "Downloading pytorch_model.bin:   0%|          | 0.00/346M [00:00<?, ?B/s]"
      ]
     },
     "metadata": {},
     "output_type": "display_data"
    },
    {
     "name": "stderr",
     "output_type": "stream",
     "text": [
      "Some weights of the model checkpoint at MIT/ast-finetuned-audioset-10-10-0.4593 were not used when initializing ASTModel: ['classifier.layernorm.bias', 'classifier.layernorm.weight', 'classifier.dense.weight', 'classifier.dense.bias']\n",
      "- This IS expected if you are initializing ASTModel from the checkpoint of a model trained on another task or with another architecture (e.g. initializing a BertForSequenceClassification model from a BertForPreTraining model).\n",
      "- This IS NOT expected if you are initializing ASTModel from the checkpoint of a model that you expect to be exactly identical (initializing a BertForSequenceClassification model from a BertForSequenceClassification model).\n"
     ]
    }
   ],
   "source": [
    "pretrained_model = ASTModel.from_pretrained(\"MIT/ast-finetuned-audioset-10-10-0.4593\")"
   ]
  },
  {
   "cell_type": "code",
   "execution_count": 23,
   "id": "45a6bba0",
   "metadata": {
    "execution": {
     "iopub.execute_input": "2023-06-10T00:14:59.071106Z",
     "iopub.status.busy": "2023-06-10T00:14:59.070325Z",
     "iopub.status.idle": "2023-06-10T00:14:59.077792Z",
     "shell.execute_reply": "2023-06-10T00:14:59.076861Z"
    },
    "papermill": {
     "duration": 0.021726,
     "end_time": "2023-06-10T00:14:59.079764",
     "exception": false,
     "start_time": "2023-06-10T00:14:59.058038",
     "status": "completed"
    },
    "tags": []
   },
   "outputs": [],
   "source": [
    "class MyNetwork(nn.Module):\n",
    "    def __init__(self, pretrained_model, num_classes):\n",
    "        super(MyNetwork, self).__init__()\n",
    "        self.pretrained_model = pretrained_model\n",
    "        \n",
    "        self.bn = nn.BatchNorm1d(num_features=768)\n",
    "        self.dropout = nn.Dropout(p=0.3)\n",
    "                \n",
    "        self.fc = nn.Linear(768, num_classes)\n",
    "        \n",
    "    def forward(self, x):\n",
    "        x = x.squeeze(1)\n",
    "        x = self.pretrained_model(input_values=x).last_hidden_state\n",
    "        x, _ = x.max(dim=1)\n",
    "        x = self.bn(x)\n",
    "        x = self.dropout(x)\n",
    "        x = self.fc(x)\n",
    "        x = F.log_softmax(x, dim=1)\n",
    "        return x"
   ]
  },
  {
   "cell_type": "markdown",
   "id": "30fcba5a",
   "metadata": {
    "execution": {
     "iopub.execute_input": "2023-06-01T19:56:50.189243Z",
     "iopub.status.busy": "2023-06-01T19:56:50.188815Z",
     "iopub.status.idle": "2023-06-01T19:58:20.235458Z",
     "shell.execute_reply": "2023-06-01T19:58:20.234304Z",
     "shell.execute_reply.started": "2023-06-01T19:56:50.189138Z"
    },
    "papermill": {
     "duration": 0.010921,
     "end_time": "2023-06-10T00:14:59.101890",
     "exception": false,
     "start_time": "2023-06-10T00:14:59.090969",
     "status": "completed"
    },
    "tags": []
   },
   "source": [
    "# Обучение и проверка точности на наборе данных"
   ]
  },
  {
   "cell_type": "code",
   "execution_count": 24,
   "id": "7a5fd2cd",
   "metadata": {
    "execution": {
     "iopub.execute_input": "2023-06-10T00:14:59.125707Z",
     "iopub.status.busy": "2023-06-10T00:14:59.125430Z",
     "iopub.status.idle": "2023-06-10T00:14:59.133372Z",
     "shell.execute_reply": "2023-06-10T00:14:59.132336Z"
    },
    "papermill": {
     "duration": 0.02223,
     "end_time": "2023-06-10T00:14:59.135455",
     "exception": false,
     "start_time": "2023-06-10T00:14:59.113225",
     "status": "completed"
    },
    "tags": []
   },
   "outputs": [],
   "source": [
    "def evaluate(network, val_loader, device=device):\n",
    "    loss_list = []\n",
    "    outputs = []\n",
    "    targets = []\n",
    "    network.eval()\n",
    "    with torch.no_grad():\n",
    "        for i_batch, sample_batched in tqdm(enumerate(val_loader)):\n",
    "            x, y = sample_batched\n",
    "            x, y = x.to(device), y.to(device)\n",
    "            \n",
    "            output = network(x)\n",
    "            outputs.append(output.argmax(axis=1))\n",
    "\n",
    "            target = y\n",
    "            targets.append(target)\n",
    "\n",
    "            loss = criterion(output, target.long())\n",
    "            loss_list.append(loss.item())\n",
    "\n",
    "        y_true = torch.hstack(targets).numpy(force=True)\n",
    "        y_pred = torch.hstack(outputs).numpy(force=True)\n",
    "        acc = accuracy_score(y_true, y_pred)\n",
    "\n",
    "        val_loss.append(np.mean(loss_list))\n",
    "        val_acc.append(acc)\n",
    "        \n",
    "        print(f'[Val] accuracy:  {acc:.5f}; mean loss:  {val_loss[-1]:.5f}', end=\"\\n\\n\")"
   ]
  },
  {
   "cell_type": "code",
   "execution_count": 25,
   "id": "4111a5e7",
   "metadata": {
    "execution": {
     "iopub.execute_input": "2023-06-10T00:14:59.159595Z",
     "iopub.status.busy": "2023-06-10T00:14:59.158837Z",
     "iopub.status.idle": "2023-06-10T00:14:59.167071Z",
     "shell.execute_reply": "2023-06-10T00:14:59.166204Z"
    },
    "papermill": {
     "duration": 0.022225,
     "end_time": "2023-06-10T00:14:59.169033",
     "exception": false,
     "start_time": "2023-06-10T00:14:59.146808",
     "status": "completed"
    },
    "tags": []
   },
   "outputs": [],
   "source": [
    "def train(network, train_loader, optimizer, criterion, device=device):\n",
    "    loss_list = []\n",
    "    outputs = []\n",
    "    targets = []\n",
    "    network.train()\n",
    "    for i_batch, sample_batched in tqdm(enumerate(train_loader)):\n",
    "        x, y = sample_batched\n",
    "        x, y = x.to(device), y.to(device)\n",
    "        optimizer.zero_grad()\n",
    "\n",
    "        output = network(x)\n",
    "        outputs.append(output.argmax(axis=1))\n",
    "\n",
    "        target = y\n",
    "        targets.append(target)\n",
    "\n",
    "        loss = criterion(output, target.long())\n",
    "        loss_list.append(loss.item())\n",
    "        loss.backward()\n",
    "        optimizer.step()\n",
    "    \n",
    "    y_true = torch.hstack(targets).numpy(force=True)\n",
    "    y_pred = torch.hstack(outputs).numpy(force=True)\n",
    "    acc = accuracy_score(y_true, y_pred)\n",
    "\n",
    "    train_loss.append(np.mean(loss_list))\n",
    "    train_acc.append(acc)\n",
    "    \n",
    "    print(f'[Train] accuracy:  {acc:.5f}; mean loss:  {train_loss[-1]:.5f}', end=\"\\n\\n\")"
   ]
  },
  {
   "cell_type": "code",
   "execution_count": 26,
   "id": "734c4fd8",
   "metadata": {
    "execution": {
     "iopub.execute_input": "2023-06-10T00:14:59.192546Z",
     "iopub.status.busy": "2023-06-10T00:14:59.192285Z",
     "iopub.status.idle": "2023-06-10T02:29:37.964934Z",
     "shell.execute_reply": "2023-06-10T02:29:37.963869Z"
    },
    "papermill": {
     "duration": 8078.78834,
     "end_time": "2023-06-10T02:29:37.968568",
     "exception": false,
     "start_time": "2023-06-10T00:14:59.180228",
     "status": "completed"
    },
    "tags": []
   },
   "outputs": [
    {
     "name": "stdout",
     "output_type": "stream",
     "text": [
      "epoch #1\n"
     ]
    },
    {
     "name": "stderr",
     "output_type": "stream",
     "text": [
      "640it [13:00,  1.22s/it]\n"
     ]
    },
    {
     "name": "stdout",
     "output_type": "stream",
     "text": [
      "[Train] accuracy:  0.46354; mean loss:  2.37895\n",
      "\n"
     ]
    },
    {
     "name": "stderr",
     "output_type": "stream",
     "text": [
      "71it [00:30,  2.33it/s]\n"
     ]
    },
    {
     "name": "stdout",
     "output_type": "stream",
     "text": [
      "[Val] accuracy:  0.75704; mean loss:  1.17903\n",
      "\n",
      "epoch #2\n"
     ]
    },
    {
     "name": "stderr",
     "output_type": "stream",
     "text": [
      "640it [12:55,  1.21s/it]\n"
     ]
    },
    {
     "name": "stdout",
     "output_type": "stream",
     "text": [
      "[Train] accuracy:  0.79863; mean loss:  1.03170\n",
      "\n"
     ]
    },
    {
     "name": "stderr",
     "output_type": "stream",
     "text": [
      "71it [00:30,  2.33it/s]\n"
     ]
    },
    {
     "name": "stdout",
     "output_type": "stream",
     "text": [
      "[Val] accuracy:  0.83803; mean loss:  0.76722\n",
      "\n",
      "epoch #3\n"
     ]
    },
    {
     "name": "stderr",
     "output_type": "stream",
     "text": [
      "640it [12:56,  1.21s/it]\n"
     ]
    },
    {
     "name": "stdout",
     "output_type": "stream",
     "text": [
      "[Train] accuracy:  0.88465; mean loss:  0.61751\n",
      "\n"
     ]
    },
    {
     "name": "stderr",
     "output_type": "stream",
     "text": [
      "71it [00:30,  2.34it/s]\n"
     ]
    },
    {
     "name": "stdout",
     "output_type": "stream",
     "text": [
      "[Val] accuracy:  0.85211; mean loss:  0.62228\n",
      "\n",
      "epoch #4\n"
     ]
    },
    {
     "name": "stderr",
     "output_type": "stream",
     "text": [
      "640it [12:56,  1.21s/it]\n"
     ]
    },
    {
     "name": "stdout",
     "output_type": "stream",
     "text": [
      "[Train] accuracy:  0.92649; mean loss:  0.41871\n",
      "\n"
     ]
    },
    {
     "name": "stderr",
     "output_type": "stream",
     "text": [
      "71it [00:30,  2.33it/s]\n"
     ]
    },
    {
     "name": "stdout",
     "output_type": "stream",
     "text": [
      "[Val] accuracy:  0.86620; mean loss:  0.54912\n",
      "\n",
      "epoch #5\n"
     ]
    },
    {
     "name": "stderr",
     "output_type": "stream",
     "text": [
      "640it [12:56,  1.21s/it]\n"
     ]
    },
    {
     "name": "stdout",
     "output_type": "stream",
     "text": [
      "[Train] accuracy:  0.95758; mean loss:  0.27415\n",
      "\n"
     ]
    },
    {
     "name": "stderr",
     "output_type": "stream",
     "text": [
      "71it [00:30,  2.33it/s]\n"
     ]
    },
    {
     "name": "stdout",
     "output_type": "stream",
     "text": [
      "[Val] accuracy:  0.87324; mean loss:  0.50939\n",
      "\n",
      "epoch #6\n"
     ]
    },
    {
     "name": "stderr",
     "output_type": "stream",
     "text": [
      "640it [12:56,  1.21s/it]\n"
     ]
    },
    {
     "name": "stdout",
     "output_type": "stream",
     "text": [
      "[Train] accuracy:  0.97791; mean loss:  0.18495\n",
      "\n"
     ]
    },
    {
     "name": "stderr",
     "output_type": "stream",
     "text": [
      "71it [00:30,  2.33it/s]\n"
     ]
    },
    {
     "name": "stdout",
     "output_type": "stream",
     "text": [
      "[Val] accuracy:  0.87852; mean loss:  0.47767\n",
      "\n",
      "epoch #7\n"
     ]
    },
    {
     "name": "stderr",
     "output_type": "stream",
     "text": [
      "640it [12:56,  1.21s/it]\n"
     ]
    },
    {
     "name": "stdout",
     "output_type": "stream",
     "text": [
      "[Train] accuracy:  0.99159; mean loss:  0.12244\n",
      "\n"
     ]
    },
    {
     "name": "stderr",
     "output_type": "stream",
     "text": [
      "71it [00:30,  2.33it/s]\n"
     ]
    },
    {
     "name": "stdout",
     "output_type": "stream",
     "text": [
      "[Val] accuracy:  0.88028; mean loss:  0.45534\n",
      "\n",
      "epoch #8\n"
     ]
    },
    {
     "name": "stderr",
     "output_type": "stream",
     "text": [
      "640it [12:56,  1.21s/it]\n"
     ]
    },
    {
     "name": "stdout",
     "output_type": "stream",
     "text": [
      "[Train] accuracy:  0.99609; mean loss:  0.08367\n",
      "\n"
     ]
    },
    {
     "name": "stderr",
     "output_type": "stream",
     "text": [
      "71it [00:30,  2.33it/s]\n"
     ]
    },
    {
     "name": "stdout",
     "output_type": "stream",
     "text": [
      "[Val] accuracy:  0.89437; mean loss:  0.44178\n",
      "\n",
      "epoch #9\n"
     ]
    },
    {
     "name": "stderr",
     "output_type": "stream",
     "text": [
      "640it [12:56,  1.21s/it]\n"
     ]
    },
    {
     "name": "stdout",
     "output_type": "stream",
     "text": [
      "[Train] accuracy:  0.99804; mean loss:  0.05797\n",
      "\n"
     ]
    },
    {
     "name": "stderr",
     "output_type": "stream",
     "text": [
      "71it [00:30,  2.33it/s]\n"
     ]
    },
    {
     "name": "stdout",
     "output_type": "stream",
     "text": [
      "[Val] accuracy:  0.89613; mean loss:  0.43739\n",
      "\n",
      "epoch #10\n"
     ]
    },
    {
     "name": "stderr",
     "output_type": "stream",
     "text": [
      "640it [12:56,  1.21s/it]\n"
     ]
    },
    {
     "name": "stdout",
     "output_type": "stream",
     "text": [
      "[Train] accuracy:  0.99902; mean loss:  0.04358\n",
      "\n"
     ]
    },
    {
     "name": "stderr",
     "output_type": "stream",
     "text": [
      "71it [00:30,  2.33it/s]"
     ]
    },
    {
     "name": "stdout",
     "output_type": "stream",
     "text": [
      "[Val] accuracy:  0.88556; mean loss:  0.43456\n",
      "\n"
     ]
    },
    {
     "name": "stderr",
     "output_type": "stream",
     "text": [
      "\n"
     ]
    }
   ],
   "source": [
    "n_epoch = 10\n",
    "\n",
    "set_random_state(RANDOM_STATE)\n",
    "\n",
    "criterion = nn.CrossEntropyLoss()\n",
    "network = MyNetwork(pretrained_model, 41).to(device)\n",
    "\n",
    "optimizer = optim.AdamW(network.parameters(), lr=0.000005, weight_decay=0.00001)\n",
    "\n",
    "train_loss = []\n",
    "val_loss = []\n",
    "\n",
    "train_acc = []\n",
    "val_acc = []\n",
    "\n",
    "for e in range(n_epoch):\n",
    "    print(f'epoch #{e+1}')\n",
    "    train(network, train_loader, optimizer, criterion, device=device)\n",
    "    evaluate(network, val_loader, device=device)"
   ]
  },
  {
   "cell_type": "markdown",
   "id": "0946e0d9",
   "metadata": {
    "papermill": {
     "duration": 0.546018,
     "end_time": "2023-06-10T02:29:39.079270",
     "exception": false,
     "start_time": "2023-06-10T02:29:38.533252",
     "status": "completed"
    },
    "tags": []
   },
   "source": [
    "# Визуализация процесса обучения сети"
   ]
  },
  {
   "cell_type": "code",
   "execution_count": 27,
   "id": "ef59356a",
   "metadata": {
    "execution": {
     "iopub.execute_input": "2023-06-10T02:29:40.216738Z",
     "iopub.status.busy": "2023-06-10T02:29:40.216368Z",
     "iopub.status.idle": "2023-06-10T02:29:40.808096Z",
     "shell.execute_reply": "2023-06-10T02:29:40.807150Z"
    },
    "papermill": {
     "duration": 1.201072,
     "end_time": "2023-06-10T02:29:40.810366",
     "exception": false,
     "start_time": "2023-06-10T02:29:39.609294",
     "status": "completed"
    },
    "tags": []
   },
   "outputs": [
    {
     "data": {
      "image/png": "[encoded data removed]",
      "text/plain": [
       "<Figure size 1000x1000 with 2 Axes>"
      ]
     },
     "metadata": {},
     "output_type": "display_data"
    }
   ],
   "source": [
    "epochs = range(1, n_epoch+1)\n",
    "\n",
    "fig, (ax_top, ax_bottom) = plt.subplots(nrows=2, ncols=1, figsize=(10, 10), sharex=True)\n",
    "\n",
    "xticks = range(1, n_epoch+1, n_epoch // 10) if n_epoch > 10 else epochs\n",
    "\n",
    "# draw loss\n",
    "ax_top.plot(epochs, train_loss, 'r', label='train')\n",
    "ax_top.plot(epochs, val_loss, 'b', label='validation')\n",
    "\n",
    "ax_top.set(\n",
    "    title='Loss',\n",
    "    xlabel='Epoch number',\n",
    "    ylabel='Loss value',\n",
    "    ylim=[0, max(max(train_loss), max(val_loss)) + 1],\n",
    ")\n",
    "ax_top.legend(\n",
    "    title=\"Выборка\",\n",
    ")\n",
    "ax_top.grid()\n",
    "\n",
    "# draw accuracy\n",
    "ax_bottom.plot(epochs, train_acc, 'r', label='train')\n",
    "ax_bottom.plot(epochs, val_acc, 'b', label='validation')\n",
    "\n",
    "ax_bottom.set(\n",
    "    title='Accuracy',\n",
    "    xlabel='Epoch number',\n",
    "    ylabel='Accuracy value',\n",
    "    xticks=xticks,\n",
    "    ylim=[0, 1],\n",
    ")\n",
    "ax_bottom.legend(\n",
    "    title=\"Выборка\",\n",
    ")\n",
    "ax_bottom.grid()\n",
    "\n",
    "fig.suptitle(\"Кривые обучения\")\n",
    "\n",
    "plt.show()"
   ]
  },
  {
   "cell_type": "markdown",
   "id": "0629e437",
   "metadata": {
    "papermill": {
     "duration": 0.537703,
     "end_time": "2023-06-10T02:29:41.967004",
     "exception": false,
     "start_time": "2023-06-10T02:29:41.429301",
     "status": "completed"
    },
    "tags": []
   },
   "source": [
    "# Предсказание результатов"
   ]
  },
  {
   "cell_type": "code",
   "execution_count": 28,
   "id": "2c909c93",
   "metadata": {
    "execution": {
     "iopub.execute_input": "2023-06-10T02:29:43.059862Z",
     "iopub.status.busy": "2023-06-10T02:29:43.059485Z",
     "iopub.status.idle": "2023-06-10T02:33:04.312007Z",
     "shell.execute_reply": "2023-06-10T02:33:04.310951Z"
    },
    "papermill": {
     "duration": 201.814746,
     "end_time": "2023-06-10T02:33:04.314632",
     "exception": false,
     "start_time": "2023-06-10T02:29:42.499886",
     "status": "completed"
    },
    "tags": []
   },
   "outputs": [],
   "source": [
    "test_outputs = []\n",
    "with torch.no_grad():\n",
    "    for i_batch, sample_batched in enumerate(test_loader):\n",
    "        x = sample_batched\n",
    "        x = x.to(device)\n",
    "        output = network(x)\n",
    "        test_outputs.append(output.argmax(axis=1))\n",
    "    y_pred = torch.hstack(test_outputs).numpy(force=True)"
   ]
  },
  {
   "cell_type": "code",
   "execution_count": 29,
   "id": "adc954ee",
   "metadata": {
    "execution": {
     "iopub.execute_input": "2023-06-10T02:33:05.459257Z",
     "iopub.status.busy": "2023-06-10T02:33:05.458880Z",
     "iopub.status.idle": "2023-06-10T02:33:05.473541Z",
     "shell.execute_reply": "2023-06-10T02:33:05.472479Z"
    },
    "papermill": {
     "duration": 0.623902,
     "end_time": "2023-06-10T02:33:05.475617",
     "exception": false,
     "start_time": "2023-06-10T02:33:04.851715",
     "status": "completed"
    },
    "tags": []
   },
   "outputs": [
    {
     "data": {
      "text/html": [
       "<div>\n",
       "<style scoped>\n",
       "    .dataframe tbody tr th:only-of-type {\n",
       "        vertical-align: middle;\n",
       "    }\n",
       "\n",
       "    .dataframe tbody tr th {\n",
       "        vertical-align: top;\n",
       "    }\n",
       "\n",
       "    .dataframe thead th {\n",
       "        text-align: right;\n",
       "    }\n",
       "</style>\n",
       "<table border=\"1\" class=\"dataframe\">\n",
       "  <thead>\n",
       "    <tr style=\"text-align: right;\">\n",
       "      <th></th>\n",
       "      <th>fname</th>\n",
       "      <th>index_label</th>\n",
       "    </tr>\n",
       "  </thead>\n",
       "  <tbody>\n",
       "    <tr>\n",
       "      <th>0</th>\n",
       "      <td>973a8b381d1875ebe120.wav</td>\n",
       "      <td>25</td>\n",
       "    </tr>\n",
       "    <tr>\n",
       "      <th>1</th>\n",
       "      <td>052e1cbeb4391d6af234.wav</td>\n",
       "      <td>0</td>\n",
       "    </tr>\n",
       "    <tr>\n",
       "      <th>2</th>\n",
       "      <td>16eb98d96319450e0949.wav</td>\n",
       "      <td>25</td>\n",
       "    </tr>\n",
       "    <tr>\n",
       "      <th>3</th>\n",
       "      <td>ff13c136c04f274229a5.wav</td>\n",
       "      <td>25</td>\n",
       "    </tr>\n",
       "    <tr>\n",
       "      <th>4</th>\n",
       "      <td>b458211304f7a14b29b2.wav</td>\n",
       "      <td>10</td>\n",
       "    </tr>\n",
       "    <tr>\n",
       "      <th>...</th>\n",
       "      <td>...</td>\n",
       "      <td>...</td>\n",
       "    </tr>\n",
       "    <tr>\n",
       "      <th>3785</th>\n",
       "      <td>959206e695c2ceed3d3b.wav</td>\n",
       "      <td>3</td>\n",
       "    </tr>\n",
       "    <tr>\n",
       "      <th>3786</th>\n",
       "      <td>3624e1c6d306945d7ba9.wav</td>\n",
       "      <td>3</td>\n",
       "    </tr>\n",
       "    <tr>\n",
       "      <th>3787</th>\n",
       "      <td>4a22b7dd3f519e2a9111.wav</td>\n",
       "      <td>36</td>\n",
       "    </tr>\n",
       "    <tr>\n",
       "      <th>3788</th>\n",
       "      <td>a2c95e48acc6a3ec2696.wav</td>\n",
       "      <td>12</td>\n",
       "    </tr>\n",
       "    <tr>\n",
       "      <th>3789</th>\n",
       "      <td>d660e01265224e7d27f0.wav</td>\n",
       "      <td>29</td>\n",
       "    </tr>\n",
       "  </tbody>\n",
       "</table>\n",
       "<p>3790 rows × 2 columns</p>\n",
       "</div>"
      ],
      "text/plain": [
       "                         fname  index_label\n",
       "0     973a8b381d1875ebe120.wav           25\n",
       "1     052e1cbeb4391d6af234.wav            0\n",
       "2     16eb98d96319450e0949.wav           25\n",
       "3     ff13c136c04f274229a5.wav           25\n",
       "4     b458211304f7a14b29b2.wav           10\n",
       "...                        ...          ...\n",
       "3785  959206e695c2ceed3d3b.wav            3\n",
       "3786  3624e1c6d306945d7ba9.wav            3\n",
       "3787  4a22b7dd3f519e2a9111.wav           36\n",
       "3788  a2c95e48acc6a3ec2696.wav           12\n",
       "3789  d660e01265224e7d27f0.wav           29\n",
       "\n",
       "[3790 rows x 2 columns]"
      ]
     },
     "execution_count": 29,
     "metadata": {},
     "output_type": "execute_result"
    }
   ],
   "source": [
    "submission_data = pd.DataFrame({'fname': sample_df[\"fname\"], 'index_label': y_pred})\n",
    "submission_data"
   ]
  },
  {
   "cell_type": "code",
   "execution_count": 30,
   "id": "8cb16f09",
   "metadata": {
    "execution": {
     "iopub.execute_input": "2023-06-10T02:33:06.547753Z",
     "iopub.status.busy": "2023-06-10T02:33:06.547401Z",
     "iopub.status.idle": "2023-06-10T02:33:06.574819Z",
     "shell.execute_reply": "2023-06-10T02:33:06.573900Z"
    },
    "papermill": {
     "duration": 0.562244,
     "end_time": "2023-06-10T02:33:06.576985",
     "exception": false,
     "start_time": "2023-06-10T02:33:06.014741",
     "status": "completed"
    },
    "tags": []
   },
   "outputs": [
    {
     "data": {
      "text/html": [
       "<div>\n",
       "<style scoped>\n",
       "    .dataframe tbody tr th:only-of-type {\n",
       "        vertical-align: middle;\n",
       "    }\n",
       "\n",
       "    .dataframe tbody tr th {\n",
       "        vertical-align: top;\n",
       "    }\n",
       "\n",
       "    .dataframe thead th {\n",
       "        text-align: right;\n",
       "    }\n",
       "</style>\n",
       "<table border=\"1\" class=\"dataframe\">\n",
       "  <thead>\n",
       "    <tr style=\"text-align: right;\">\n",
       "      <th></th>\n",
       "      <th>fname</th>\n",
       "      <th>index_label</th>\n",
       "      <th>label</th>\n",
       "    </tr>\n",
       "  </thead>\n",
       "  <tbody>\n",
       "    <tr>\n",
       "      <th>0</th>\n",
       "      <td>973a8b381d1875ebe120.wav</td>\n",
       "      <td>25</td>\n",
       "      <td>Knock</td>\n",
       "    </tr>\n",
       "    <tr>\n",
       "      <th>1</th>\n",
       "      <td>052e1cbeb4391d6af234.wav</td>\n",
       "      <td>0</td>\n",
       "      <td>Acoustic_guitar</td>\n",
       "    </tr>\n",
       "    <tr>\n",
       "      <th>2</th>\n",
       "      <td>16eb98d96319450e0949.wav</td>\n",
       "      <td>25</td>\n",
       "      <td>Knock</td>\n",
       "    </tr>\n",
       "    <tr>\n",
       "      <th>3</th>\n",
       "      <td>ff13c136c04f274229a5.wav</td>\n",
       "      <td>25</td>\n",
       "      <td>Knock</td>\n",
       "    </tr>\n",
       "    <tr>\n",
       "      <th>4</th>\n",
       "      <td>b458211304f7a14b29b2.wav</td>\n",
       "      <td>10</td>\n",
       "      <td>Cough</td>\n",
       "    </tr>\n",
       "    <tr>\n",
       "      <th>...</th>\n",
       "      <td>...</td>\n",
       "      <td>...</td>\n",
       "      <td>...</td>\n",
       "    </tr>\n",
       "    <tr>\n",
       "      <th>3785</th>\n",
       "      <td>959206e695c2ceed3d3b.wav</td>\n",
       "      <td>3</td>\n",
       "      <td>Bass_drum</td>\n",
       "    </tr>\n",
       "    <tr>\n",
       "      <th>3786</th>\n",
       "      <td>3624e1c6d306945d7ba9.wav</td>\n",
       "      <td>3</td>\n",
       "      <td>Bass_drum</td>\n",
       "    </tr>\n",
       "    <tr>\n",
       "      <th>3787</th>\n",
       "      <td>4a22b7dd3f519e2a9111.wav</td>\n",
       "      <td>36</td>\n",
       "      <td>Tearing</td>\n",
       "    </tr>\n",
       "    <tr>\n",
       "      <th>3788</th>\n",
       "      <td>a2c95e48acc6a3ec2696.wav</td>\n",
       "      <td>12</td>\n",
       "      <td>Double_bass</td>\n",
       "    </tr>\n",
       "    <tr>\n",
       "      <th>3789</th>\n",
       "      <td>d660e01265224e7d27f0.wav</td>\n",
       "      <td>29</td>\n",
       "      <td>Oboe</td>\n",
       "    </tr>\n",
       "  </tbody>\n",
       "</table>\n",
       "<p>3790 rows × 3 columns</p>\n",
       "</div>"
      ],
      "text/plain": [
       "                         fname  index_label            label\n",
       "0     973a8b381d1875ebe120.wav           25            Knock\n",
       "1     052e1cbeb4391d6af234.wav            0  Acoustic_guitar\n",
       "2     16eb98d96319450e0949.wav           25            Knock\n",
       "3     ff13c136c04f274229a5.wav           25            Knock\n",
       "4     b458211304f7a14b29b2.wav           10            Cough\n",
       "...                        ...          ...              ...\n",
       "3785  959206e695c2ceed3d3b.wav            3        Bass_drum\n",
       "3786  3624e1c6d306945d7ba9.wav            3        Bass_drum\n",
       "3787  4a22b7dd3f519e2a9111.wav           36          Tearing\n",
       "3788  a2c95e48acc6a3ec2696.wav           12      Double_bass\n",
       "3789  d660e01265224e7d27f0.wav           29             Oboe\n",
       "\n",
       "[3790 rows x 3 columns]"
      ]
     },
     "execution_count": 30,
     "metadata": {},
     "output_type": "execute_result"
    }
   ],
   "source": [
    "submission_data['label'] = submission_data['index_label'].apply(lambda index: next(label for label, id in label_value_dict.items() if id == index))\n",
    "submission_data"
   ]
  },
  {
   "cell_type": "code",
   "execution_count": 31,
   "id": "f4c0f666",
   "metadata": {
    "execution": {
     "iopub.execute_input": "2023-06-10T02:33:07.664012Z",
     "iopub.status.busy": "2023-06-10T02:33:07.663640Z",
     "iopub.status.idle": "2023-06-10T02:33:07.676217Z",
     "shell.execute_reply": "2023-06-10T02:33:07.675233Z"
    },
    "papermill": {
     "duration": 0.550514,
     "end_time": "2023-06-10T02:33:07.678345",
     "exception": false,
     "start_time": "2023-06-10T02:33:07.127831",
     "status": "completed"
    },
    "tags": []
   },
   "outputs": [],
   "source": [
    "submission_data = submission_data[['fname', 'label']]"
   ]
  },
  {
   "cell_type": "code",
   "execution_count": 32,
   "id": "645e8e50",
   "metadata": {
    "execution": {
     "iopub.execute_input": "2023-06-10T02:33:08.833182Z",
     "iopub.status.busy": "2023-06-10T02:33:08.832817Z",
     "iopub.status.idle": "2023-06-10T02:33:08.843929Z",
     "shell.execute_reply": "2023-06-10T02:33:08.842997Z"
    },
    "papermill": {
     "duration": 0.552957,
     "end_time": "2023-06-10T02:33:08.846017",
     "exception": false,
     "start_time": "2023-06-10T02:33:08.293060",
     "status": "completed"
    },
    "tags": []
   },
   "outputs": [
    {
     "data": {
      "text/html": [
       "<div>\n",
       "<style scoped>\n",
       "    .dataframe tbody tr th:only-of-type {\n",
       "        vertical-align: middle;\n",
       "    }\n",
       "\n",
       "    .dataframe tbody tr th {\n",
       "        vertical-align: top;\n",
       "    }\n",
       "\n",
       "    .dataframe thead th {\n",
       "        text-align: right;\n",
       "    }\n",
       "</style>\n",
       "<table border=\"1\" class=\"dataframe\">\n",
       "  <thead>\n",
       "    <tr style=\"text-align: right;\">\n",
       "      <th></th>\n",
       "      <th>fname</th>\n",
       "      <th>label</th>\n",
       "    </tr>\n",
       "  </thead>\n",
       "  <tbody>\n",
       "    <tr>\n",
       "      <th>0</th>\n",
       "      <td>973a8b381d1875ebe120.wav</td>\n",
       "      <td>Knock</td>\n",
       "    </tr>\n",
       "    <tr>\n",
       "      <th>1</th>\n",
       "      <td>052e1cbeb4391d6af234.wav</td>\n",
       "      <td>Acoustic_guitar</td>\n",
       "    </tr>\n",
       "    <tr>\n",
       "      <th>2</th>\n",
       "      <td>16eb98d96319450e0949.wav</td>\n",
       "      <td>Knock</td>\n",
       "    </tr>\n",
       "    <tr>\n",
       "      <th>3</th>\n",
       "      <td>ff13c136c04f274229a5.wav</td>\n",
       "      <td>Knock</td>\n",
       "    </tr>\n",
       "    <tr>\n",
       "      <th>4</th>\n",
       "      <td>b458211304f7a14b29b2.wav</td>\n",
       "      <td>Cough</td>\n",
       "    </tr>\n",
       "    <tr>\n",
       "      <th>...</th>\n",
       "      <td>...</td>\n",
       "      <td>...</td>\n",
       "    </tr>\n",
       "    <tr>\n",
       "      <th>3785</th>\n",
       "      <td>959206e695c2ceed3d3b.wav</td>\n",
       "      <td>Bass_drum</td>\n",
       "    </tr>\n",
       "    <tr>\n",
       "      <th>3786</th>\n",
       "      <td>3624e1c6d306945d7ba9.wav</td>\n",
       "      <td>Bass_drum</td>\n",
       "    </tr>\n",
       "    <tr>\n",
       "      <th>3787</th>\n",
       "      <td>4a22b7dd3f519e2a9111.wav</td>\n",
       "      <td>Tearing</td>\n",
       "    </tr>\n",
       "    <tr>\n",
       "      <th>3788</th>\n",
       "      <td>a2c95e48acc6a3ec2696.wav</td>\n",
       "      <td>Double_bass</td>\n",
       "    </tr>\n",
       "    <tr>\n",
       "      <th>3789</th>\n",
       "      <td>d660e01265224e7d27f0.wav</td>\n",
       "      <td>Oboe</td>\n",
       "    </tr>\n",
       "  </tbody>\n",
       "</table>\n",
       "<p>3790 rows × 2 columns</p>\n",
       "</div>"
      ],
      "text/plain": [
       "                         fname            label\n",
       "0     973a8b381d1875ebe120.wav            Knock\n",
       "1     052e1cbeb4391d6af234.wav  Acoustic_guitar\n",
       "2     16eb98d96319450e0949.wav            Knock\n",
       "3     ff13c136c04f274229a5.wav            Knock\n",
       "4     b458211304f7a14b29b2.wav            Cough\n",
       "...                        ...              ...\n",
       "3785  959206e695c2ceed3d3b.wav        Bass_drum\n",
       "3786  3624e1c6d306945d7ba9.wav        Bass_drum\n",
       "3787  4a22b7dd3f519e2a9111.wav          Tearing\n",
       "3788  a2c95e48acc6a3ec2696.wav      Double_bass\n",
       "3789  d660e01265224e7d27f0.wav             Oboe\n",
       "\n",
       "[3790 rows x 2 columns]"
      ]
     },
     "execution_count": 32,
     "metadata": {},
     "output_type": "execute_result"
    }
   ],
   "source": [
    "submission_data"
   ]
  },
  {
   "cell_type": "code",
   "execution_count": 33,
   "id": "29ab41a2",
   "metadata": {
    "execution": {
     "iopub.execute_input": "2023-06-10T02:33:09.942691Z",
     "iopub.status.busy": "2023-06-10T02:33:09.942333Z",
     "iopub.status.idle": "2023-06-10T02:33:09.962879Z",
     "shell.execute_reply": "2023-06-10T02:33:09.962002Z"
    },
    "papermill": {
     "duration": 0.564003,
     "end_time": "2023-06-10T02:33:09.964887",
     "exception": false,
     "start_time": "2023-06-10T02:33:09.400884",
     "status": "completed"
    },
    "tags": []
   },
   "outputs": [],
   "source": [
    "submission_data.to_csv('submission.csv', index=False)"
   ]
  },
  {
   "cell_type": "code",
   "execution_count": null,
   "id": "4fe4bb85",
   "metadata": {
    "papermill": {
     "duration": 0.609616,
     "end_time": "2023-06-10T02:33:11.202142",
     "exception": false,
     "start_time": "2023-06-10T02:33:10.592526",
     "status": "completed"
    },
    "tags": []
   },
   "outputs": [],
   "source": []
  }
 ],
 "metadata": {
  "kernelspec": {
   "display_name": "Python 3",
   "language": "python",
   "name": "python3"
  },
  "language_info": {
   "codemirror_mode": {
    "name": "ipython",
    "version": 3
   },
   "file_extension": ".py",
   "mimetype": "text/x-python",
   "name": "python",
   "nbconvert_exporter": "python",
   "pygments_lexer": "ipython3",
   "version": "3.10.10"
  },
  "papermill": {
   "default_parameters": {},
   "duration": 8638.735,
   "end_time": "2023-06-10T02:33:15.854029",
   "environment_variables": {},
   "exception": null,
   "input_path": "__notebook__.ipynb",
   "output_path": "__notebook__.ipynb",
   "parameters": {},
   "start_time": "2023-06-10T00:09:17.119029",
   "version": "2.4.0"
  },
  "widgets": {
   "application/vnd.jupyter.widget-state+json": {
    "state": {
     "098d74710c62483383f0c5d3bf7c6ada": {
      "model_module": "@jupyter-widgets/base",
      "model_module_version": "1.2.0",
      "model_name": "LayoutModel",
      "state": {
       "_model_module": "@jupyter-widgets/base",
       "_model_module_version": "1.2.0",
       "_model_name": "LayoutModel",
       "_view_count": null,
       "_view_module": "@jupyter-widgets/base",
       "_view_module_version": "1.2.0",
       "_view_name": "LayoutView",
       "align_content": null,
       "align_items": null,
       "align_self": null,
       "border": null,
       "bottom": null,
       "display": null,
       "flex": null,
       "flex_flow": null,
       "grid_area": null,
       "grid_auto_columns": null,
       "grid_auto_flow": null,
       "grid_auto_rows": null,
       "grid_column": null,
       "grid_gap": null,
       "grid_row": null,
       "grid_template_areas": null,
       "grid_template_columns": null,
       "grid_template_rows": null,
       "height": null,
       "justify_content": null,
       "justify_items": null,
       "left": null,
       "margin": null,
       "max_height": null,
       "max_width": null,
       "min_height": null,
       "min_width": null,
       "object_fit": null,
       "object_position": null,
       "order": null,
       "overflow": null,
       "overflow_x": null,
       "overflow_y": null,
       "padding": null,
       "right": null,
       "top": null,
       "visibility": null,
       "width": null
      }
     },
     "13c51103ea484917962b053e8e80ac1f": {
      "model_module": "@jupyter-widgets/controls",
      "model_module_version": "1.5.0",
      "model_name": "HTMLModel",
      "state": {
       "_dom_classes": [],
       "_model_module": "@jupyter-widgets/controls",
       "_model_module_version": "1.5.0",
       "_model_name": "HTMLModel",
       "_view_count": null,
       "_view_module": "@jupyter-widgets/controls",
       "_view_module_version": "1.5.0",
       "_view_name": "HTMLView",
       "description": "",
       "description_tooltip": null,
       "layout": "IPY_MODEL_1767b6c7c7784559ba8262108cbbabce",
       "placeholder": "​",
       "style": "IPY_MODEL_87f62578072742eb99afc9e90dfb7f3f",
       "value": " 297/297 [00:00&lt;00:00, 10.3kB/s]"
      }
     },
     "142e439ea85545138323278ba736f558": {
      "model_module": "@jupyter-widgets/controls",
      "model_module_version": "1.5.0",
      "model_name": "HTMLModel",
      "state": {
       "_dom_classes": [],
       "_model_module": "@jupyter-widgets/controls",
       "_model_module_version": "1.5.0",
       "_model_name": "HTMLModel",
       "_view_count": null,
       "_view_module": "@jupyter-widgets/controls",
       "_view_module_version": "1.5.0",
       "_view_name": "HTMLView",
       "description": "",
       "description_tooltip": null,
       "layout": "IPY_MODEL_383f17cf7d414a8e8f45b83c0c3c05dc",
       "placeholder": "​",
       "style": "IPY_MODEL_3a27a06c45ea469cb26600b39b97abf3",
       "value": " 26.8k/26.8k [00:00&lt;00:00, 2.07MB/s]"
      }
     },
     "1767b6c7c7784559ba8262108cbbabce": {
      "model_module": "@jupyter-widgets/base",
      "model_module_version": "1.2.0",
      "model_name": "LayoutModel",
      "state": {
       "_model_module": "@jupyter-widgets/base",
       "_model_module_version": "1.2.0",
       "_model_name": "LayoutModel",
       "_view_count": null,
       "_view_module": "@jupyter-widgets/base",
       "_view_module_version": "1.2.0",
       "_view_name": "LayoutView",
       "align_content": null,
       "align_items": null,
       "align_self": null,
       "border": null,
       "bottom": null,
       "display": null,
       "flex": null,
       "flex_flow": null,
       "grid_area": null,
       "grid_auto_columns": null,
       "grid_auto_flow": null,
       "grid_auto_rows": null,
       "grid_column": null,
       "grid_gap": null,
       "grid_row": null,
       "grid_template_areas": null,
       "grid_template_columns": null,
       "grid_template_rows": null,
       "height": null,
       "justify_content": null,
       "justify_items": null,
       "left": null,
       "margin": null,
       "max_height": null,
       "max_width": null,
       "min_height": null,
       "min_width": null,
       "object_fit": null,
       "object_position": null,
       "order": null,
       "overflow": null,
       "overflow_x": null,
       "overflow_y": null,
       "padding": null,
       "right": null,
       "top": null,
       "visibility": null,
       "width": null
      }
     },
     "3253dace4a4a4032b79db27d53e41d2b": {
      "model_module": "@jupyter-widgets/base",
      "model_module_version": "1.2.0",
      "model_name": "LayoutModel",
      "state": {
       "_model_module": "@jupyter-widgets/base",
       "_model_module_version": "1.2.0",
       "_model_name": "LayoutModel",
       "_view_count": null,
       "_view_module": "@jupyter-widgets/base",
       "_view_module_version": "1.2.0",
       "_view_name": "LayoutView",
       "align_content": null,
       "align_items": null,
       "align_self": null,
       "border": null,
       "bottom": null,
       "display": null,
       "flex": null,
       "flex_flow": null,
       "grid_area": null,
       "grid_auto_columns": null,
       "grid_auto_flow": null,
       "grid_auto_rows": null,
       "grid_column": null,
       "grid_gap": null,
       "grid_row": null,
       "grid_template_areas": null,
       "grid_template_columns": null,
       "grid_template_rows": null,
       "height": null,
       "justify_content": null,
       "justify_items": null,
       "left": null,
       "margin": null,
       "max_height": null,
       "max_width": null,
       "min_height": null,
       "min_width": null,
       "object_fit": null,
       "object_position": null,
       "order": null,
       "overflow": null,
       "overflow_x": null,
       "overflow_y": null,
       "padding": null,
       "right": null,
       "top": null,
       "visibility": null,
       "width": null
      }
     },
     "383f17cf7d414a8e8f45b83c0c3c05dc": {
      "model_module": "@jupyter-widgets/base",
      "model_module_version": "1.2.0",
      "model_name": "LayoutModel",
      "state": {
       "_model_module": "@jupyter-widgets/base",
       "_model_module_version": "1.2.0",
       "_model_name": "LayoutModel",
       "_view_count": null,
       "_view_module": "@jupyter-widgets/base",
       "_view_module_version": "1.2.0",
       "_view_name": "LayoutView",
       "align_content": null,
       "align_items": null,
       "align_self": null,
       "border": null,
       "bottom": null,
       "display": null,
       "flex": null,
       "flex_flow": null,
       "grid_area": null,
       "grid_auto_columns": null,
       "grid_auto_flow": null,
       "grid_auto_rows": null,
       "grid_column": null,
       "grid_gap": null,
       "grid_row": null,
       "grid_template_areas": null,
       "grid_template_columns": null,
       "grid_template_rows": null,
       "height": null,
       "justify_content": null,
       "justify_items": null,
       "left": null,
       "margin": null,
       "max_height": null,
       "max_width": null,
       "min_height": null,
       "min_width": null,
       "object_fit": null,
       "object_position": null,
       "order": null,
       "overflow": null,
       "overflow_x": null,
       "overflow_y": null,
       "padding": null,
       "right": null,
       "top": null,
       "visibility": null,
       "width": null
      }
     },
     "3a27a06c45ea469cb26600b39b97abf3": {
      "model_module": "@jupyter-widgets/controls",
      "model_module_version": "1.5.0",
      "model_name": "DescriptionStyleModel",
      "state": {
       "_model_module": "@jupyter-widgets/controls",
       "_model_module_version": "1.5.0",
       "_model_name": "DescriptionStyleModel",
       "_view_count": null,
       "_view_module": "@jupyter-widgets/base",
       "_view_module_version": "1.2.0",
       "_view_name": "StyleView",
       "description_width": ""
      }
     },
     "3a75e52f0b6845edbda0abd16cb7668b": {
      "model_module": "@jupyter-widgets/base",
      "model_module_version": "1.2.0",
      "model_name": "LayoutModel",
      "state": {
       "_model_module": "@jupyter-widgets/base",
       "_model_module_version": "1.2.0",
       "_model_name": "LayoutModel",
       "_view_count": null,
       "_view_module": "@jupyter-widgets/base",
       "_view_module_version": "1.2.0",
       "_view_name": "LayoutView",
       "align_content": null,
       "align_items": null,
       "align_self": null,
       "border": null,
       "bottom": null,
       "display": null,
       "flex": null,
       "flex_flow": null,
       "grid_area": null,
       "grid_auto_columns": null,
       "grid_auto_flow": null,
       "grid_auto_rows": null,
       "grid_column": null,
       "grid_gap": null,
       "grid_row": null,
       "grid_template_areas": null,
       "grid_template_columns": null,
       "grid_template_rows": null,
       "height": null,
       "justify_content": null,
       "justify_items": null,
       "left": null,
       "margin": null,
       "max_height": null,
       "max_width": null,
       "min_height": null,
       "min_width": null,
       "object_fit": null,
       "object_position": null,
       "order": null,
       "overflow": null,
       "overflow_x": null,
       "overflow_y": null,
       "padding": null,
       "right": null,
       "top": null,
       "visibility": null,
       "width": null
      }
     },
     "3b6a3a69ebac41668febd6e7bb37c92b": {
      "model_module": "@jupyter-widgets/base",
      "model_module_version": "1.2.0",
      "model_name": "LayoutModel",
      "state": {
       "_model_module": "@jupyter-widgets/base",
       "_model_module_version": "1.2.0",
       "_model_name": "LayoutModel",
       "_view_count": null,
       "_view_module": "@jupyter-widgets/base",
       "_view_module_version": "1.2.0",
       "_view_name": "LayoutView",
       "align_content": null,
       "align_items": null,
       "align_self": null,
       "border": null,
       "bottom": null,
       "display": null,
       "flex": null,
       "flex_flow": null,
       "grid_area": null,
       "grid_auto_columns": null,
       "grid_auto_flow": null,
       "grid_auto_rows": null,
       "grid_column": null,
       "grid_gap": null,
       "grid_row": null,
       "grid_template_areas": null,
       "grid_template_columns": null,
       "grid_template_rows": null,
       "height": null,
       "justify_content": null,
       "justify_items": null,
       "left": null,
       "margin": null,
       "max_height": null,
       "max_width": null,
       "min_height": null,
       "min_width": null,
       "object_fit": null,
       "object_position": null,
       "order": null,
       "overflow": null,
       "overflow_x": null,
       "overflow_y": null,
       "padding": null,
       "right": null,
       "top": null,
       "visibility": null,
       "width": null
      }
     },
     "3dd063175d494310a8cda05163a4ff20": {
      "model_module": "@jupyter-widgets/base",
      "model_module_version": "1.2.0",
      "model_name": "LayoutModel",
      "state": {
       "_model_module": "@jupyter-widgets/base",
       "_model_module_version": "1.2.0",
       "_model_name": "LayoutModel",
       "_view_count": null,
       "_view_module": "@jupyter-widgets/base",
       "_view_module_version": "1.2.0",
       "_view_name": "LayoutView",
       "align_content": null,
       "align_items": null,
       "align_self": null,
       "border": null,
       "bottom": null,
       "display": null,
       "flex": null,
       "flex_flow": null,
       "grid_area": null,
       "grid_auto_columns": null,
       "grid_auto_flow": null,
       "grid_auto_rows": null,
       "grid_column": null,
       "grid_gap": null,
       "grid_row": null,
       "grid_template_areas": null,
       "grid_template_columns": null,
       "grid_template_rows": null,
       "height": null,
       "justify_content": null,
       "justify_items": null,
       "left": null,
       "margin": null,
       "max_height": null,
       "max_width": null,
       "min_height": null,
       "min_width": null,
       "object_fit": null,
       "object_position": null,
       "order": null,
       "overflow": null,
       "overflow_x": null,
       "overflow_y": null,
       "padding": null,
       "right": null,
       "top": null,
       "visibility": null,
       "width": null
      }
     },
     "51e8863519f24f359f0a2d9c08a01a40": {
      "model_module": "@jupyter-widgets/controls",
      "model_module_version": "1.5.0",
      "model_name": "DescriptionStyleModel",
      "state": {
       "_model_module": "@jupyter-widgets/controls",
       "_model_module_version": "1.5.0",
       "_model_name": "DescriptionStyleModel",
       "_view_count": null,
       "_view_module": "@jupyter-widgets/base",
       "_view_module_version": "1.2.0",
       "_view_name": "StyleView",
       "description_width": ""
      }
     },
     "537222b0efc742fe90f41d8fafa2c3af": {
      "model_module": "@jupyter-widgets/controls",
      "model_module_version": "1.5.0",
      "model_name": "FloatProgressModel",
      "state": {
       "_dom_classes": [],
       "_model_module": "@jupyter-widgets/controls",
       "_model_module_version": "1.5.0",
       "_model_name": "FloatProgressModel",
       "_view_count": null,
       "_view_module": "@jupyter-widgets/controls",
       "_view_module_version": "1.5.0",
       "_view_name": "ProgressView",
       "bar_style": "success",
       "description": "",
       "description_tooltip": null,
       "layout": "IPY_MODEL_3a75e52f0b6845edbda0abd16cb7668b",
       "max": 346445675.0,
       "min": 0.0,
       "orientation": "horizontal",
       "style": "IPY_MODEL_6fc1e689858146f0a6f2bc46b64173e9",
       "value": 346445675.0
      }
     },
     "644e7e2805664485931b018a1e88fa43": {
      "model_module": "@jupyter-widgets/controls",
      "model_module_version": "1.5.0",
      "model_name": "HTMLModel",
      "state": {
       "_dom_classes": [],
       "_model_module": "@jupyter-widgets/controls",
       "_model_module_version": "1.5.0",
       "_model_name": "HTMLModel",
       "_view_count": null,
       "_view_module": "@jupyter-widgets/controls",
       "_view_module_version": "1.5.0",
       "_view_name": "HTMLView",
       "description": "",
       "description_tooltip": null,
       "layout": "IPY_MODEL_3253dace4a4a4032b79db27d53e41d2b",
       "placeholder": "​",
       "style": "IPY_MODEL_89d997f1ce304facb365e0e02d3ff1b0",
       "value": " 346M/346M [00:01&lt;00:00, 266MB/s]"
      }
     },
     "6c4abc8cb8d84dd08f48809669d03579": {
      "model_module": "@jupyter-widgets/controls",
      "model_module_version": "1.5.0",
      "model_name": "ProgressStyleModel",
      "state": {
       "_model_module": "@jupyter-widgets/controls",
       "_model_module_version": "1.5.0",
       "_model_name": "ProgressStyleModel",
       "_view_count": null,
       "_view_module": "@jupyter-widgets/base",
       "_view_module_version": "1.2.0",
       "_view_name": "StyleView",
       "bar_color": null,
       "description_width": ""
      }
     },
     "6fc1e689858146f0a6f2bc46b64173e9": {
      "model_module": "@jupyter-widgets/controls",
      "model_module_version": "1.5.0",
      "model_name": "ProgressStyleModel",
      "state": {
       "_model_module": "@jupyter-widgets/controls",
       "_model_module_version": "1.5.0",
       "_model_name": "ProgressStyleModel",
       "_view_count": null,
       "_view_module": "@jupyter-widgets/base",
       "_view_module_version": "1.2.0",
       "_view_name": "StyleView",
       "bar_color": null,
       "description_width": ""
      }
     },
     "71b6ccefa82441758b2624256284e6bd": {
      "model_module": "@jupyter-widgets/base",
      "model_module_version": "1.2.0",
      "model_name": "LayoutModel",
      "state": {
       "_model_module": "@jupyter-widgets/base",
       "_model_module_version": "1.2.0",
       "_model_name": "LayoutModel",
       "_view_count": null,
       "_view_module": "@jupyter-widgets/base",
       "_view_module_version": "1.2.0",
       "_view_name": "LayoutView",
       "align_content": null,
       "align_items": null,
       "align_self": null,
       "border": null,
       "bottom": null,
       "display": null,
       "flex": null,
       "flex_flow": null,
       "grid_area": null,
       "grid_auto_columns": null,
       "grid_auto_flow": null,
       "grid_auto_rows": null,
       "grid_column": null,
       "grid_gap": null,
       "grid_row": null,
       "grid_template_areas": null,
       "grid_template_columns": null,
       "grid_template_rows": null,
       "height": null,
       "justify_content": null,
       "justify_items": null,
       "left": null,
       "margin": null,
       "max_height": null,
       "max_width": null,
       "min_height": null,
       "min_width": null,
       "object_fit": null,
       "object_position": null,
       "order": null,
       "overflow": null,
       "overflow_x": null,
       "overflow_y": null,
       "padding": null,
       "right": null,
       "top": null,
       "visibility": null,
       "width": null
      }
     },
     "73a88afb70c042328f356e34e4c25292": {
      "model_module": "@jupyter-widgets/controls",
      "model_module_version": "1.5.0",
      "model_name": "HBoxModel",
      "state": {
       "_dom_classes": [],
       "_model_module": "@jupyter-widgets/controls",
       "_model_module_version": "1.5.0",
       "_model_name": "HBoxModel",
       "_view_count": null,
       "_view_module": "@jupyter-widgets/controls",
       "_view_module_version": "1.5.0",
       "_view_name": "HBoxView",
       "box_style": "",
       "children": [
        "IPY_MODEL_9d4bc524cc9f4eed9ddd17ebaa5afdd2",
        "IPY_MODEL_73cfb8fb2e6b457b8a5bccfc95dc4e7c",
        "IPY_MODEL_13c51103ea484917962b053e8e80ac1f"
       ],
       "layout": "IPY_MODEL_9f51858092db42e18086dd2537bb3ed1"
      }
     },
     "73cfb8fb2e6b457b8a5bccfc95dc4e7c": {
      "model_module": "@jupyter-widgets/controls",
      "model_module_version": "1.5.0",
      "model_name": "FloatProgressModel",
      "state": {
       "_dom_classes": [],
       "_model_module": "@jupyter-widgets/controls",
       "_model_module_version": "1.5.0",
       "_model_name": "FloatProgressModel",
       "_view_count": null,
       "_view_module": "@jupyter-widgets/controls",
       "_view_module_version": "1.5.0",
       "_view_name": "ProgressView",
       "bar_style": "success",
       "description": "",
       "description_tooltip": null,
       "layout": "IPY_MODEL_947c0d1c835e4ec4a365513e339618fb",
       "max": 297.0,
       "min": 0.0,
       "orientation": "horizontal",
       "style": "IPY_MODEL_6c4abc8cb8d84dd08f48809669d03579",
       "value": 297.0
      }
     },
     "7b4116b9621440cf92c658da77612bdf": {
      "model_module": "@jupyter-widgets/controls",
      "model_module_version": "1.5.0",
      "model_name": "HTMLModel",
      "state": {
       "_dom_classes": [],
       "_model_module": "@jupyter-widgets/controls",
       "_model_module_version": "1.5.0",
       "_model_name": "HTMLModel",
       "_view_count": null,
       "_view_module": "@jupyter-widgets/controls",
       "_view_module_version": "1.5.0",
       "_view_name": "HTMLView",
       "description": "",
       "description_tooltip": null,
       "layout": "IPY_MODEL_71b6ccefa82441758b2624256284e6bd",
       "placeholder": "​",
       "style": "IPY_MODEL_9d0cc401142b4a3eac6c680b7fbdd15e",
       "value": "Downloading pytorch_model.bin: 100%"
      }
     },
     "87f62578072742eb99afc9e90dfb7f3f": {
      "model_module": "@jupyter-widgets/controls",
      "model_module_version": "1.5.0",
      "model_name": "DescriptionStyleModel",
      "state": {
       "_model_module": "@jupyter-widgets/controls",
       "_model_module_version": "1.5.0",
       "_model_name": "DescriptionStyleModel",
       "_view_count": null,
       "_view_module": "@jupyter-widgets/base",
       "_view_module_version": "1.2.0",
       "_view_name": "StyleView",
       "description_width": ""
      }
     },
     "89d997f1ce304facb365e0e02d3ff1b0": {
      "model_module": "@jupyter-widgets/controls",
      "model_module_version": "1.5.0",
      "model_name": "DescriptionStyleModel",
      "state": {
       "_model_module": "@jupyter-widgets/controls",
       "_model_module_version": "1.5.0",
       "_model_name": "DescriptionStyleModel",
       "_view_count": null,
       "_view_module": "@jupyter-widgets/base",
       "_view_module_version": "1.2.0",
       "_view_name": "StyleView",
       "description_width": ""
      }
     },
     "947c0d1c835e4ec4a365513e339618fb": {
      "model_module": "@jupyter-widgets/base",
      "model_module_version": "1.2.0",
      "model_name": "LayoutModel",
      "state": {
       "_model_module": "@jupyter-widgets/base",
       "_model_module_version": "1.2.0",
       "_model_name": "LayoutModel",
       "_view_count": null,
       "_view_module": "@jupyter-widgets/base",
       "_view_module_version": "1.2.0",
       "_view_name": "LayoutView",
       "align_content": null,
       "align_items": null,
       "align_self": null,
       "border": null,
       "bottom": null,
       "display": null,
       "flex": null,
       "flex_flow": null,
       "grid_area": null,
       "grid_auto_columns": null,
       "grid_auto_flow": null,
       "grid_auto_rows": null,
       "grid_column": null,
       "grid_gap": null,
       "grid_row": null,
       "grid_template_areas": null,
       "grid_template_columns": null,
       "grid_template_rows": null,
       "height": null,
       "justify_content": null,
       "justify_items": null,
       "left": null,
       "margin": null,
       "max_height": null,
       "max_width": null,
       "min_height": null,
       "min_width": null,
       "object_fit": null,
       "object_position": null,
       "order": null,
       "overflow": null,
       "overflow_x": null,
       "overflow_y": null,
       "padding": null,
       "right": null,
       "top": null,
       "visibility": null,
       "width": null
      }
     },
     "9d0cc401142b4a3eac6c680b7fbdd15e": {
      "model_module": "@jupyter-widgets/controls",
      "model_module_version": "1.5.0",
      "model_name": "DescriptionStyleModel",
      "state": {
       "_model_module": "@jupyter-widgets/controls",
       "_model_module_version": "1.5.0",
       "_model_name": "DescriptionStyleModel",
       "_view_count": null,
       "_view_module": "@jupyter-widgets/base",
       "_view_module_version": "1.2.0",
       "_view_name": "StyleView",
       "description_width": ""
      }
     },
     "9d4bc524cc9f4eed9ddd17ebaa5afdd2": {
      "model_module": "@jupyter-widgets/controls",
      "model_module_version": "1.5.0",
      "model_name": "HTMLModel",
      "state": {
       "_dom_classes": [],
       "_model_module": "@jupyter-widgets/controls",
       "_model_module_version": "1.5.0",
       "_model_name": "HTMLModel",
       "_view_count": null,
       "_view_module": "@jupyter-widgets/controls",
       "_view_module_version": "1.5.0",
       "_view_name": "HTMLView",
       "description": "",
       "description_tooltip": null,
       "layout": "IPY_MODEL_3b6a3a69ebac41668febd6e7bb37c92b",
       "placeholder": "​",
       "style": "IPY_MODEL_ffe69ea437b34a57a243fdcb4588cfe1",
       "value": "Downloading (…)rocessor_config.json: 100%"
      }
     },
     "9f51858092db42e18086dd2537bb3ed1": {
      "model_module": "@jupyter-widgets/base",
      "model_module_version": "1.2.0",
      "model_name": "LayoutModel",
      "state": {
       "_model_module": "@jupyter-widgets/base",
       "_model_module_version": "1.2.0",
       "_model_name": "LayoutModel",
       "_view_count": null,
       "_view_module": "@jupyter-widgets/base",
       "_view_module_version": "1.2.0",
       "_view_name": "LayoutView",
       "align_content": null,
       "align_items": null,
       "align_self": null,
       "border": null,
       "bottom": null,
       "display": null,
       "flex": null,
       "flex_flow": null,
       "grid_area": null,
       "grid_auto_columns": null,
       "grid_auto_flow": null,
       "grid_auto_rows": null,
       "grid_column": null,
       "grid_gap": null,
       "grid_row": null,
       "grid_template_areas": null,
       "grid_template_columns": null,
       "grid_template_rows": null,
       "height": null,
       "justify_content": null,
       "justify_items": null,
       "left": null,
       "margin": null,
       "max_height": null,
       "max_width": null,
       "min_height": null,
       "min_width": null,
       "object_fit": null,
       "object_position": null,
       "order": null,
       "overflow": null,
       "overflow_x": null,
       "overflow_y": null,
       "padding": null,
       "right": null,
       "top": null,
       "visibility": null,
       "width": null
      }
     },
     "a44a7b41215849938ec705a4aa98cece": {
      "model_module": "@jupyter-widgets/controls",
      "model_module_version": "1.5.0",
      "model_name": "HBoxModel",
      "state": {
       "_dom_classes": [],
       "_model_module": "@jupyter-widgets/controls",
       "_model_module_version": "1.5.0",
       "_model_name": "HBoxModel",
       "_view_count": null,
       "_view_module": "@jupyter-widgets/controls",
       "_view_module_version": "1.5.0",
       "_view_name": "HBoxView",
       "box_style": "",
       "children": [
        "IPY_MODEL_f7b7d84c5853400da0f73c9050b1e925",
        "IPY_MODEL_d5a3cfaf94e54b589db51c8aa470d2ee",
        "IPY_MODEL_142e439ea85545138323278ba736f558"
       ],
       "layout": "IPY_MODEL_ca89d09bd6f646c8bdccfaef169e42c3"
      }
     },
     "ca89d09bd6f646c8bdccfaef169e42c3": {
      "model_module": "@jupyter-widgets/base",
      "model_module_version": "1.2.0",
      "model_name": "LayoutModel",
      "state": {
       "_model_module": "@jupyter-widgets/base",
       "_model_module_version": "1.2.0",
       "_model_name": "LayoutModel",
       "_view_count": null,
       "_view_module": "@jupyter-widgets/base",
       "_view_module_version": "1.2.0",
       "_view_name": "LayoutView",
       "align_content": null,
       "align_items": null,
       "align_self": null,
       "border": null,
       "bottom": null,
       "display": null,
       "flex": null,
       "flex_flow": null,
       "grid_area": null,
       "grid_auto_columns": null,
       "grid_auto_flow": null,
       "grid_auto_rows": null,
       "grid_column": null,
       "grid_gap": null,
       "grid_row": null,
       "grid_template_areas": null,
       "grid_template_columns": null,
       "grid_template_rows": null,
       "height": null,
       "justify_content": null,
       "justify_items": null,
       "left": null,
       "margin": null,
       "max_height": null,
       "max_width": null,
       "min_height": null,
       "min_width": null,
       "object_fit": null,
       "object_position": null,
       "order": null,
       "overflow": null,
       "overflow_x": null,
       "overflow_y": null,
       "padding": null,
       "right": null,
       "top": null,
       "visibility": null,
       "width": null
      }
     },
     "d5a3cfaf94e54b589db51c8aa470d2ee": {
      "model_module": "@jupyter-widgets/controls",
      "model_module_version": "1.5.0",
      "model_name": "FloatProgressModel",
      "state": {
       "_dom_classes": [],
       "_model_module": "@jupyter-widgets/controls",
       "_model_module_version": "1.5.0",
       "_model_name": "FloatProgressModel",
       "_view_count": null,
       "_view_module": "@jupyter-widgets/controls",
       "_view_module_version": "1.5.0",
       "_view_name": "ProgressView",
       "bar_style": "success",
       "description": "",
       "description_tooltip": null,
       "layout": "IPY_MODEL_098d74710c62483383f0c5d3bf7c6ada",
       "max": 26763.0,
       "min": 0.0,
       "orientation": "horizontal",
       "style": "IPY_MODEL_feca24650a544c5ebcb080c8f92e27c0",
       "value": 26763.0
      }
     },
     "e669fad113ac43ce9fe9efc54f657a79": {
      "model_module": "@jupyter-widgets/controls",
      "model_module_version": "1.5.0",
      "model_name": "HBoxModel",
      "state": {
       "_dom_classes": [],
       "_model_module": "@jupyter-widgets/controls",
       "_model_module_version": "1.5.0",
       "_model_name": "HBoxModel",
       "_view_count": null,
       "_view_module": "@jupyter-widgets/controls",
       "_view_module_version": "1.5.0",
       "_view_name": "HBoxView",
       "box_style": "",
       "children": [
        "IPY_MODEL_7b4116b9621440cf92c658da77612bdf",
        "IPY_MODEL_537222b0efc742fe90f41d8fafa2c3af",
        "IPY_MODEL_644e7e2805664485931b018a1e88fa43"
       ],
       "layout": "IPY_MODEL_f5bf990df28a499da1df9880d62bac9b"
      }
     },
     "f5bf990df28a499da1df9880d62bac9b": {
      "model_module": "@jupyter-widgets/base",
      "model_module_version": "1.2.0",
      "model_name": "LayoutModel",
      "state": {
       "_model_module": "@jupyter-widgets/base",
       "_model_module_version": "1.2.0",
       "_model_name": "LayoutModel",
       "_view_count": null,
       "_view_module": "@jupyter-widgets/base",
       "_view_module_version": "1.2.0",
       "_view_name": "LayoutView",
       "align_content": null,
       "align_items": null,
       "align_self": null,
       "border": null,
       "bottom": null,
       "display": null,
       "flex": null,
       "flex_flow": null,
       "grid_area": null,
       "grid_auto_columns": null,
       "grid_auto_flow": null,
       "grid_auto_rows": null,
       "grid_column": null,
       "grid_gap": null,
       "grid_row": null,
       "grid_template_areas": null,
       "grid_template_columns": null,
       "grid_template_rows": null,
       "height": null,
       "justify_content": null,
       "justify_items": null,
       "left": null,
       "margin": null,
       "max_height": null,
       "max_width": null,
       "min_height": null,
       "min_width": null,
       "object_fit": null,
       "object_position": null,
       "order": null,
       "overflow": null,
       "overflow_x": null,
       "overflow_y": null,
       "padding": null,
       "right": null,
       "top": null,
       "visibility": null,
       "width": null
      }
     },
     "f7b7d84c5853400da0f73c9050b1e925": {
      "model_module": "@jupyter-widgets/controls",
      "model_module_version": "1.5.0",
      "model_name": "HTMLModel",
      "state": {
       "_dom_classes": [],
       "_model_module": "@jupyter-widgets/controls",
       "_model_module_version": "1.5.0",
       "_model_name": "HTMLModel",
       "_view_count": null,
       "_view_module": "@jupyter-widgets/controls",
       "_view_module_version": "1.5.0",
       "_view_name": "HTMLView",
       "description": "",
       "description_tooltip": null,
       "layout": "IPY_MODEL_3dd063175d494310a8cda05163a4ff20",
       "placeholder": "​",
       "style": "IPY_MODEL_51e8863519f24f359f0a2d9c08a01a40",
       "value": "Downloading (…)lve/main/config.json: 100%"
      }
     },
     "feca24650a544c5ebcb080c8f92e27c0": {
      "model_module": "@jupyter-widgets/controls",
      "model_module_version": "1.5.0",
      "model_name": "ProgressStyleModel",
      "state": {
       "_model_module": "@jupyter-widgets/controls",
       "_model_module_version": "1.5.0",
       "_model_name": "ProgressStyleModel",
       "_view_count": null,
       "_view_module": "@jupyter-widgets/base",
       "_view_module_version": "1.2.0",
       "_view_name": "StyleView",
       "bar_color": null,
       "description_width": ""
      }
     },
     "ffe69ea437b34a57a243fdcb4588cfe1": {
      "model_module": "@jupyter-widgets/controls",
      "model_module_version": "1.5.0",
      "model_name": "DescriptionStyleModel",
      "state": {
       "_model_module": "@jupyter-widgets/controls",
       "_model_module_version": "1.5.0",
       "_model_name": "DescriptionStyleModel",
       "_view_count": null,
       "_view_module": "@jupyter-widgets/base",
       "_view_module_version": "1.2.0",
       "_view_name": "StyleView",
       "description_width": ""
      }
     }
    },
    "version_major": 2,
    "version_minor": 0
   }
  }
 },
 "nbformat": 4,
 "nbformat_minor": 5
}
